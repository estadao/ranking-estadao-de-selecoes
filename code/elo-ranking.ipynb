{
 "cells": [
  {
   "cell_type": "markdown",
   "metadata": {},
   "source": [
    "# Ranking Estadão dos Mundiais\n",
    "Usa a metodologia Elo para descobrir quais foram as melhores seleções da história das Copas do Mundo."
   ]
  },
  {
   "cell_type": "code",
   "execution_count": 1,
   "metadata": {
    "collapsed": true
   },
   "outputs": [],
   "source": [
    "import numpy as np\n",
    "import pandas as pd\n",
    "import matplotlib.pyplot as plt\n",
    "from datetime import datetime\n",
    "%matplotlib inline"
   ]
  },
  {
   "cell_type": "code",
   "execution_count": 2,
   "metadata": {
    "collapsed": true
   },
   "outputs": [],
   "source": [
    "pd.options.display.max_rows = 1000"
   ]
  },
  {
   "cell_type": "markdown",
   "metadata": {},
   "source": [
    "## Descrição do modelo\n",
    "\n",
    "Modelo baseado em `eloratings.net/about`, com adaptações\n",
    "\n",
    "#### K-constants\n",
    "- 60 para jogos de Copa do Mundo\n",
    "- 50 para torneios continentais e intercontinentais principais: Eurocopa, Copa América, Jogos Olímpicos até 1930, Eliminatórias da Copa do Mundo na Europa e na América do Sul\n",
    "- 30 para torneios continentais e intercontinentais secundários: Copa da Ásia, Copa Africana de Nações, Campeonato da CONCACAF, Copa Ouro, eliminatórias da Euro\n",
    "- 20 para jogos de eliminatórias dos demais continentes\n",
    "- 15 para eliminatórias dos demais torneios continentais\n",
    "- 10 para outros torneios oficiais e amistosos\n",
    "\n",
    "#### Goal weight\n",
    "O fator K aumenta de acordo com a diferença de gols.\n",
    "\n",
    "- Para vitórias por 1 gol, K é multplicado por 1\n",
    "- Para vitórias por 2 gols, K é multplicado por 1.5\n",
    "- Para vitórias por 3 gols, K é multiplicado por 1.75\n",
    "- Para vitórias por 4 ou mais gols, K é multiplicado por 1 + (3/4 + (número de gols - 3/8))\n",
    "\n",
    "\n",
    "#### Diminuição anual de pontos\n",
    "- A cada temporada, todos os times perdem 10% dos seus pontos. Isso é feito para evitar que as equipes acumulem pontos indefinidamente e para refletir melhor a força dos times a cada momento. Por exemplo, o Brasil de 2017 não está em posição mais alta apenas porque o time foi bem nos anos 90."
   ]
  },
  {
   "cell_type": "markdown",
   "metadata": {},
   "source": [
    "### Referências metodológicas:\n",
    "\n",
    "https://en.wikipedia.org/wiki/World_Football_Elo_Ratings#Basic_calculation_principles\n",
    "\n",
    "https://www.kaggle.com/kplauritzen/elo-ratings-in-python\n",
    "\n",
    "http://www.eloratings.net/about\n"
   ]
  },
  {
   "cell_type": "markdown",
   "metadata": {},
   "source": [
    "# Base de dados atualizada até o final de abril"
   ]
  },
  {
   "cell_type": "code",
   "execution_count": 3,
   "metadata": {
    "collapsed": true
   },
   "outputs": [],
   "source": [
    "# Base de dados atualizada até 17 de junho\n",
    "df = pd.read_csv('../data/results.csv') "
   ]
  },
  {
   "cell_type": "code",
   "execution_count": 4,
   "metadata": {
    "collapsed": true
   },
   "outputs": [],
   "source": [
    "# Preenche nans - existem alguns para a cidade do jogo\n",
    "df = df.fillna('unknown')"
   ]
  },
  {
   "cell_type": "markdown",
   "metadata": {},
   "source": [
    "### Foram adicionados manualmente os Jogos Olímpicos até 1930\n",
    "- Até 1930, os Jogos Olímpicos eram o principal campeonato de seleçoões do mundo. Depois da primeira Copa do Mundo, participaram apenas amadores ou times sub-23. Escolhemos colocar na base de dados as partidas de Jogos Olímpicos entre 1908 e 1928 por esse motivo. Nos jogos de 1900 e 1904, o futebol foi apenas um esporte de exibição disputado por clubes locais.\n",
    "- Nota: **inclui** os jogos do torneio de consolação dos Jogos de 1912\n",
    "\n",
    "### Removemos torneios que não foram organizados pela FIFA, confederaçoões continentais ou sub-confederaçoões\n",
    "- A base de dados original tem diversos tipos de torneios, incluindo semi-amadores de nações onde o futebol não é muito desenvolvido e competições amistosas não-oficiais. Eles serão desconsiderados."
   ]
  },
  {
   "cell_type": "code",
   "execution_count": 5,
   "metadata": {
    "collapsed": true
   },
   "outputs": [],
   "source": [
    "# Lista com os torneios que devem ser desconsiderados\n",
    "to_drop = ['Merdeka Tournament', 'Vietnam Independence Cup', 'Indonesia Tournament', 'GaNEFo', 'Korea Cup',\n",
    "           'Brazil Independence Cup', 'Kirin Cup', 'Amílcar Cabral Cup', 'Nehru Cup', 'Merlion Cup',\n",
    "           'Lunar New Year Cup', 'Malta International Tournament', 'Dynasty Cup', 'Jordan International Tournament',\n",
    "           'King Hassan II Tournament', 'Cyprus International Tournament', 'Dunhill Cup', 'USA Cup', \n",
    "           'SKN Football Festival', 'UNIFFAC Cup', 'Millennium Cup', \"Prime Minister's Cup\", \"VFF Cup\", \"Dragon Cup\",\n",
    "           \"ABCS Tournament\", \"Nile Basin Tnmt.\", \"Nations Cup\", \"OSN Cup\", \"Gulf Cup\", \"Pan American Championship\",\n",
    "           \"Windward Islands Tournament\", \"Baltic Cup\", \"Balkan Cup\", \"Nordic Championship\", \"Atlantic Cup\", 'Rous Cup', \n",
    "           'Tournoi de France', 'Mundialito', \"South Pacific Games\", \"King's Cup\", \"UAE Friendship Tournament\",\n",
    "           \"Simba Tnmt.\",]\n",
    "\n",
    "# Mantivemos torneios que consistiam de um amistoso entre duas seleções, o que era freqneunte na América do Sul.\n",
    "# É o caso da Copa Roca, por exemplo."
   ]
  },
  {
   "cell_type": "code",
   "execution_count": 6,
   "metadata": {
    "collapsed": true
   },
   "outputs": [],
   "source": [
    "df = df[~df.tournament.isin(to_drop)]"
   ]
  },
  {
   "cell_type": "markdown",
   "metadata": {},
   "source": [
    "#### Abaixo, uma lista das competiçoões consideradas:"
   ]
  },
  {
   "cell_type": "code",
   "execution_count": 7,
   "metadata": {},
   "outputs": [
    {
     "data": {
      "text/plain": [
       "array(['Olympic Games', 'Friendly', 'British Championship', 'Copa Lipton',\n",
       "       'Copa Newton', 'Copa Premio Honor Argentino',\n",
       "       'Copa Premio Honor Uruguayo', 'Copa Roca', 'Copa América',\n",
       "       'Copa Chevallier Boutell', 'International Cup', 'FIFA World Cup',\n",
       "       'Copa Rio Branco', 'FIFA World Cup qualification',\n",
       "       'CCCF Championship', 'NAFU Championship', 'Copa Oswaldo Cruz',\n",
       "       'Copa del Pacífico', \"Copa Bernardo O'Higgins\",\n",
       "       'AFC Asian Cup qualification', 'AFC Asian Cup',\n",
       "       'African Cup of Nations', 'Copa Paz del Chaco',\n",
       "       'UEFA Euro qualification', 'UEFA Euro',\n",
       "       'African Cup of Nations qualification', 'Copa Carlos Dittborn',\n",
       "       'CONCACAF Championship', 'Copa Juan Pinto Durán', 'UAFA Cup',\n",
       "       'CONCACAF Championship qualification', 'Copa Artigas',\n",
       "       'Copa Ramón Castilla', 'Oceania Nations Cup', 'CECAFA Cup',\n",
       "       'Copa Félix Bogado', 'CFU Caribbean Cup qualification',\n",
       "       'CFU Caribbean Cup', 'West African Cup', 'UDEAC Cup', 'UNCAF Cup',\n",
       "       'Gold Cup', 'Confederations Cup',\n",
       "       'Oceania Nations Cup qualification', 'SAFF Cup', 'AFF Championship',\n",
       "       'COSAFA Cup', 'Gold Cup qualification', 'WAFF Championship',\n",
       "       'EAFF Championship', 'AFC Challenge Cup', 'UAFA Cup qualification',\n",
       "       'AFC Challenge Cup qualification', 'African Nations Championship'], dtype=object)"
      ]
     },
     "execution_count": 7,
     "metadata": {},
     "output_type": "execute_result"
    }
   ],
   "source": [
    "df.tournament.unique()"
   ]
  },
  {
   "cell_type": "markdown",
   "metadata": {},
   "source": [
    "### Criar funções auxiliares"
   ]
  },
  {
   "cell_type": "code",
   "execution_count": 8,
   "metadata": {
    "collapsed": true
   },
   "outputs": [],
   "source": [
    "# Cria campo com time vencedor e perdedor\n",
    "def get_winner(row):\n",
    "    if row.home_score > row.away_score:\n",
    "        winner = 'home_team'\n",
    "        loser = 'away_team'\n",
    "    elif row.home_score < row.away_score:\n",
    "        winner = 'away_team'\n",
    "        loser = 'home_team'\n",
    "    else:\n",
    "        winner = 'draw'\n",
    "        loser = 'draw'\n",
    "        \n",
    "    return pd.Series({\n",
    "        'winner':winner,\n",
    "        'loser':loser\n",
    "    })\n",
    "\n",
    "df = df.join(df.apply(get_winner, axis = 1))"
   ]
  },
  {
   "cell_type": "code",
   "execution_count": 9,
   "metadata": {
    "collapsed": true
   },
   "outputs": [],
   "source": [
    "# Cria um campo com objetos datetime\n",
    "def get_datetime(row):\n",
    "    datetime = pd.to_datetime(row.date, format=\"%Y-%m-%d\")\n",
    "    return pd.Series({'datetime':datetime})\n",
    "\n",
    "df['datetime'] = df.apply(get_datetime, axis=1)"
   ]
  },
  {
   "cell_type": "code",
   "execution_count": 10,
   "metadata": {
    "collapsed": true
   },
   "outputs": [],
   "source": [
    "def get_year(row):\n",
    "    year = row.datetime.year\n",
    "    return pd.Series({'year':year})\n",
    "\n",
    "df['year'] = df.apply(get_year, axis=1)"
   ]
  },
  {
   "cell_type": "code",
   "execution_count": 11,
   "metadata": {
    "collapsed": true
   },
   "outputs": [],
   "source": [
    "# Calcula a diferença do placar\n",
    "def get_winning_margin(row):\n",
    "    if row.winner == 'home_team':\n",
    "        difference = row.home_score - row.away_score\n",
    "    elif row.winner == 'away_team':\n",
    "        difference = row.away_score - row.home_score\n",
    "    else: # It's a draw\n",
    "        difference = 0\n",
    "    return pd.Series({'difference':difference})\n",
    "\n",
    "df['difference'] = df.apply(get_winning_margin, axis=1)"
   ]
  },
  {
   "cell_type": "code",
   "execution_count": 12,
   "metadata": {
    "collapsed": true
   },
   "outputs": [],
   "source": [
    "# Calcula o total de gols da partida\n",
    "df['total_goals'] = df['home_score'] + df['away_score']"
   ]
  },
  {
   "cell_type": "code",
   "execution_count": 13,
   "metadata": {
    "collapsed": true
   },
   "outputs": [],
   "source": [
    "# Calcula a expectativa de vitória\n",
    "def get_win_expectancy(elo_a, elo_b):\n",
    "    dr = elo_a - elo_b\n",
    "    exp_a = 1 / (10**(-dr/400) + 1)\n",
    "    exp_b = 1 - exp_a\n",
    "    return (exp_a, exp_b)"
   ]
  },
  {
   "cell_type": "code",
   "execution_count": 14,
   "metadata": {
    "collapsed": true
   },
   "outputs": [],
   "source": [
    "# Calcula a variação elo\n",
    "def get_home_new_elo(result, chances, difference, k_weight, old_elo):\n",
    "    # PARÂMETROS\n",
    "    # result: 0, 0.5 ou 1 - derrota, empate ou vitória\n",
    "    # chances: as chances de vitória calculadas pela função get_win_expectancy na forma de uma tupla\n",
    "    # difference: a diferença de gols do jogo\n",
    "    # k_weight: o peso do campeonato\n",
    "\n",
    "    # Adiciona o peso da margem de vitória/derrota\n",
    "    if difference < 2:\n",
    "        goal_weight = 1\n",
    "    if difference == 2:\n",
    "        goal_weight = 1.5\n",
    "    if difference == 3:\n",
    "        goal_weight = 1.75\n",
    "    if  difference >= 4:\n",
    "        goal_weight = 1 + (3/4 + (difference-3)/8) \n",
    "    \n",
    "    k_factor = k_weight * goal_weight\n",
    "    new_elo = round((old_elo + (k_factor * (result - chances[0]))))\n",
    "    return new_elo\n",
    "                         \n",
    "def get_away_new_elo(result, chances, difference, k_weight, old_elo):\n",
    "    # Adiciona o peso da margem de vitória/derrota\n",
    "    if difference < 2:\n",
    "        goal_weight = 1\n",
    "    if difference == 2:\n",
    "        goal_weight = 1.5\n",
    "    if difference == 3:\n",
    "        goal_weight = 1.75\n",
    "    if  difference >= 4:\n",
    "        goal_weight = 1 + (3/4 + (difference-3)/8) \n",
    "    \n",
    "    k_factor = k_weight * goal_weight\n",
    "    new_elo = round((old_elo + (k_factor * (result - chances[1]))))\n",
    "    return new_elo"
   ]
  },
  {
   "cell_type": "markdown",
   "metadata": {},
   "source": [
    "## Fusões e desmembramentos\n",
    "\n",
    "- Optamos por discordar da FIFA em alguns aspectos: tratamos as seleções de países que se fundiram e/ou desemembraram como equipes separadas. Assim, a Alemanha, a Alemanha Oriental e a Alemanha Ocidental são times diferentes, assim como URSS e Rússia. Fizemos isso para evitar distorções como no caso russo, onde a seleção herdou os resultados soviéticos em decisão mais política do que desporiva, prejudicando países como Ucrânia e atingindo um resultado inconsistente com os resultados alcançados por sua equipe nacional."
   ]
  },
  {
   "cell_type": "markdown",
   "metadata": {},
   "source": [
    "### URSS:\n",
    "\n",
    "#### Aconteceram partidas entre estados membros da URSS no intervalo em que a seleção soviética existiu. Elas serão desconsideradas, já que não são partidas entre seleções oficiais de estados-nação.\n",
    "\n",
    "#### Jogos entre 1919 e 1992 serão considerados como jogos da URSS - mesmo jogos disputados sob a bandeira provisória da Comunidade dos Estados Independentes. Estão como Rússia no banco de dados."
   ]
  },
  {
   "cell_type": "code",
   "execution_count": 15,
   "metadata": {
    "collapsed": true
   },
   "outputs": [],
   "source": [
    "# Define datas de início e fim da URSS\n",
    "ussr_beginning = pd.to_datetime('1922-12-31', format=\"%Y-%m-%d\")\n",
    "ussr_end =  pd.to_datetime('1992-01-25', format=\"%Y-%m-%d\")"
   ]
  },
  {
   "cell_type": "markdown",
   "metadata": {},
   "source": [
    "#### Estônia, Letônia e Lituânia: \n",
    "- Não existiram como nações soberanas entre 16 de junho 1940 e datas variadas de 1991, quando foram ocupadas pelas URSS. Os jogos dentro desse intervalo serão desconsiderados: eram, geralmente, amistosos entre seleções do regime soviético ou de simpatizantes do bloco."
   ]
  },
  {
   "cell_type": "code",
   "execution_count": 16,
   "metadata": {
    "collapsed": true
   },
   "outputs": [],
   "source": [
    "# Define datas de início da ocupação e da independência de cada estado\n",
    "occupation_start = pd.to_datetime('1940-06-14', format=\"%Y-%m-%d\")\n",
    "estonia_independence = pd.to_datetime('1991-08-20', format=\"%Y-%m-%d\")\n",
    "latvia_independence = pd.to_datetime('1990-05-04', format=\"%Y-%m-%d\")\n",
    "lithuania_independence = pd.to_datetime('1990-03-11', format=\"%Y-%m-%d\")"
   ]
  },
  {
   "cell_type": "code",
   "execution_count": 17,
   "metadata": {
    "collapsed": true
   },
   "outputs": [],
   "source": [
    "# Para cada partida no intervalo de tempo em que a Estônia foi parte da União Soviética, derrubar o país\n",
    "\n",
    "# Define os index que devem ser derrubados\n",
    "drop = df[\n",
    "   ( ( df.home_team=='Estonia') | (df.away_team==\"Estonia\") ) \n",
    "   &\n",
    "   ( (df.datetime > occupation_start) & (df.datetime < estonia_independence ) )\n",
    "  ].index\n",
    "\n",
    "# Derruba com base nos índices\n",
    "df.drop(drop, inplace=True)"
   ]
  },
  {
   "cell_type": "code",
   "execution_count": 18,
   "metadata": {
    "collapsed": true
   },
   "outputs": [],
   "source": [
    "# Para cada partida no intervalo de tempo em que a Letônia foi parte da União Soviética, derrubar o país\n",
    "\n",
    "# Define os índices que devem ser derrubados\n",
    "drop = df[\n",
    "   ( ( df.home_team=='Latvia') | (df.away_team==\"Latvia\") ) \n",
    "   &\n",
    "   ( (df.datetime > occupation_start) & (df.datetime < latvia_independence ) )\n",
    "  ].index\n",
    "\n",
    "# Derruba com base nos índices\n",
    "df.drop(drop, inplace=True)"
   ]
  },
  {
   "cell_type": "code",
   "execution_count": 19,
   "metadata": {
    "collapsed": true
   },
   "outputs": [],
   "source": [
    "# Para cada partida no intervalo de tempo em que a Lituânia foi parte da União Soviética, derrubar o país\n",
    "\n",
    "# Define os índices que devem ser derrubados\n",
    "drop = df[\n",
    "   ( ( df.home_team=='Lithuania') | (df.away_team==\"Lithuania\") ) \n",
    "   &\n",
    "   ( (df.datetime > occupation_start) & (df.datetime < lithuania_independence ) )\n",
    "  ].index\n",
    "\n",
    "# Derruba com base nos índices\n",
    "df.drop(drop, inplace=True)"
   ]
  },
  {
   "cell_type": "markdown",
   "metadata": {},
   "source": [
    "#### Ucrânia:\n",
    "- O país se separa da URSS em 24 da agosto de 1991. Jogos anteriores serão removidos."
   ]
  },
  {
   "cell_type": "code",
   "execution_count": 20,
   "metadata": {
    "collapsed": true
   },
   "outputs": [],
   "source": [
    "# Define a data de independência da Ucrânia\n",
    "ukraine_independence = pd.to_datetime('1991-08-24', format=\"%Y-%m-%d\")"
   ]
  },
  {
   "cell_type": "code",
   "execution_count": 21,
   "metadata": {
    "collapsed": true
   },
   "outputs": [],
   "source": [
    "# Derruba partidas disputadas durante domínio soviético\n",
    "drop = df[\n",
    "   ( ( df.home_team=='Ukraine') | (df.away_team==\"Ukraine\") ) \n",
    "   &\n",
    "   ( (df.datetime > ussr_beginning) & ( df.datetime < ukraine_independence ) )\n",
    "  ].index\n",
    "\n",
    "# Derruba com base nos índices\n",
    "df.drop(drop, inplace=True)"
   ]
  },
  {
   "cell_type": "markdown",
   "metadata": {},
   "source": [
    "#### Belarus\n",
    "- Independéncia em 25 de agosto de 1991. Jogos anteriores serão removidos."
   ]
  },
  {
   "cell_type": "code",
   "execution_count": 22,
   "metadata": {
    "collapsed": true
   },
   "outputs": [],
   "source": [
    "belarus_independence = pd.to_datetime('1991-08-25', format=\"%Y-%m-%d\")"
   ]
  },
  {
   "cell_type": "code",
   "execution_count": 23,
   "metadata": {
    "collapsed": true
   },
   "outputs": [],
   "source": [
    "# Derruba partidas disputadas durante domínio soviético\n",
    "drop = df[\n",
    "   ( ( df.home_team=='Belarus') | (df.away_team==\"Belarus\") ) \n",
    "   &\n",
    "   ( (df.datetime > ussr_beginning) & ( df.datetime < belarus_independence ) )\n",
    "  ].index\n",
    "\n",
    "# Derruba com base nos índices\n",
    "df.drop(drop, inplace=True)"
   ]
  },
  {
   "cell_type": "markdown",
   "metadata": {},
   "source": [
    "#### Uzbequistão\n",
    "- A seleção só existe oficialmente a partir de 17 de junho de 1992. Jogos anteriores serão removidos."
   ]
  },
  {
   "cell_type": "code",
   "execution_count": 24,
   "metadata": {
    "collapsed": true
   },
   "outputs": [],
   "source": [
    "uzbekistan_start = pd.to_datetime('1992-06-17', format=\"%Y-%m-%d\")"
   ]
  },
  {
   "cell_type": "code",
   "execution_count": 25,
   "metadata": {
    "collapsed": true
   },
   "outputs": [],
   "source": [
    "drop = df[\n",
    "   ( ( df.home_team=='Uzbekistan') | (df.away_team==\"Uzbekistan\") ) \n",
    "   &\n",
    "   ( df.datetime < uzbekistan_start)\n",
    "   ].index\n",
    "\n",
    "df.drop(drop, inplace=True)"
   ]
  },
  {
   "cell_type": "markdown",
   "metadata": {},
   "source": [
    "#### Cazaquistão:\n",
    "- A seleção só existe oficialmente a partir de primeiro de junho de 1992. Jogos anteriores serão removidos."
   ]
  },
  {
   "cell_type": "code",
   "execution_count": 26,
   "metadata": {
    "collapsed": true
   },
   "outputs": [],
   "source": [
    "kazakhstan_start = pd.to_datetime('1992-06-01', format=\"%Y-%m-%d\")"
   ]
  },
  {
   "cell_type": "code",
   "execution_count": 27,
   "metadata": {
    "collapsed": true
   },
   "outputs": [],
   "source": [
    "drop = df[\n",
    "   ( ( df.home_team=='Kazakhstan') | (df.away_team==\"Kazahstan\") ) \n",
    "   &\n",
    "   ( df.datetime <  kazakhstan_start)\n",
    "   ].index\n",
    "\n",
    "df.drop(drop, inplace=True)"
   ]
  },
  {
   "cell_type": "markdown",
   "metadata": {},
   "source": [
    "#### Azerbaijão:\n",
    "- Primeira partida oficial em 17 de setembro de 1992. Partidas anteriores serão desconsideradas."
   ]
  },
  {
   "cell_type": "code",
   "execution_count": 28,
   "metadata": {
    "collapsed": true
   },
   "outputs": [],
   "source": [
    "azerbaijan_start = pd.to_datetime('1992-09-17', format=\"%Y-%m-%d\")"
   ]
  },
  {
   "cell_type": "code",
   "execution_count": 29,
   "metadata": {
    "collapsed": true
   },
   "outputs": [],
   "source": [
    "drop = df[\n",
    "   ( ( df.home_team=='Azerbaijan') | (df.away_team==\"Azerbaijan\") ) \n",
    "   &\n",
    "   ( df.datetime <  azerbaijan_start)\n",
    "   ].index\n",
    "\n",
    "df.drop(drop, inplace=True)"
   ]
  },
  {
   "cell_type": "markdown",
   "metadata": {},
   "source": [
    "#### Quirguistão:\n",
    "- Primeira partida oficial em 23 de agosto de 1992. Partidas anteriores serão desconsideradas."
   ]
  },
  {
   "cell_type": "code",
   "execution_count": 30,
   "metadata": {
    "collapsed": true
   },
   "outputs": [],
   "source": [
    "kyrgyzstan_start = pd.to_datetime('1992-08-23', format=\"%Y-%m-%d\")"
   ]
  },
  {
   "cell_type": "code",
   "execution_count": 31,
   "metadata": {
    "collapsed": true
   },
   "outputs": [],
   "source": [
    "drop = df[\n",
    "   ( ( df.home_team=='Kyrgyzstan') | (df.away_team==\"Kyrgyzstan\") ) \n",
    "   &\n",
    "   ( df.datetime < kyrgyzstan_start)\n",
    "   ].index\n",
    "\n",
    "df.drop(drop, inplace=True)"
   ]
  },
  {
   "cell_type": "markdown",
   "metadata": {},
   "source": [
    "#### Tadjiquistão:\n",
    "- Começa em 17 de junho de 1992"
   ]
  },
  {
   "cell_type": "code",
   "execution_count": 32,
   "metadata": {
    "collapsed": true
   },
   "outputs": [],
   "source": [
    "tajikistan_start = pd.to_datetime('1992-06-17', format=\"%Y-%m-%d\")"
   ]
  },
  {
   "cell_type": "code",
   "execution_count": 33,
   "metadata": {
    "collapsed": true
   },
   "outputs": [],
   "source": [
    "drop = df[\n",
    "   ( ( df.home_team=='Tajikistan') | (df.away_team==\"Tajikistan\") ) \n",
    "   &\n",
    "   ( df.datetime < tajikistan_start)\n",
    "   ].index\n",
    "\n",
    "df.drop(drop, inplace=True)"
   ]
  },
  {
   "cell_type": "markdown",
   "metadata": {},
   "source": [
    "#### Georgia\n",
    "- Ainda que a seleção só exista oficialmente depois da independência em 9 de abril de 1991, ela jogou amistosos antes disso. Eles serão desconsiderados."
   ]
  },
  {
   "cell_type": "code",
   "execution_count": 34,
   "metadata": {
    "collapsed": true
   },
   "outputs": [],
   "source": [
    "georgia_start = pd.to_datetime('1991-04-09', format=\"%Y-%m-%d\")"
   ]
  },
  {
   "cell_type": "code",
   "execution_count": 35,
   "metadata": {
    "collapsed": true
   },
   "outputs": [],
   "source": [
    "drop = df[\n",
    "   ( ( df.home_team=='Georgia') | (df.away_team==\"Georgia\") ) \n",
    "   &\n",
    "   ( df.datetime < georgia_start)\n",
    "   ].index\n",
    "\n",
    "df.drop(drop, inplace=True)"
   ]
  },
  {
   "cell_type": "markdown",
   "metadata": {},
   "source": [
    "#### Moldávia\n",
    "- Primeira partida oficial em 2 de julho de 1991. Partidas anteriores serão desconsideradas."
   ]
  },
  {
   "cell_type": "code",
   "execution_count": 36,
   "metadata": {
    "collapsed": true
   },
   "outputs": [],
   "source": [
    "moldova_start = pd.to_datetime('1991-07-02', format=\"%Y-%m-%d\")"
   ]
  },
  {
   "cell_type": "code",
   "execution_count": 37,
   "metadata": {
    "collapsed": true
   },
   "outputs": [],
   "source": [
    "drop = df[\n",
    "   ( ( df.home_team=='Moldova') | (df.away_team==\"Moldova\") ) \n",
    "   &\n",
    "   ( df.datetime < moldova_start)\n",
    "   ].index\n",
    "\n",
    "df.drop(drop, inplace=True)"
   ]
  },
  {
   "cell_type": "markdown",
   "metadata": {},
   "source": [
    "#### Armênia\n",
    "- Começa em 12 de outubro de 1992"
   ]
  },
  {
   "cell_type": "code",
   "execution_count": 38,
   "metadata": {
    "collapsed": true
   },
   "outputs": [],
   "source": [
    "armenia_start = pd.to_datetime('1992-10-12', format=\"%Y-%m-%d\")"
   ]
  },
  {
   "cell_type": "code",
   "execution_count": 39,
   "metadata": {
    "collapsed": true
   },
   "outputs": [],
   "source": [
    "drop = df[\n",
    "   ( ( df.home_team=='Armenia') | (df.away_team==\"Armenia\") ) \n",
    "   &\n",
    "   ( df.datetime < armenia_start)\n",
    "   ].index\n",
    "\n",
    "df.drop(drop, inplace=True)"
   ]
  },
  {
   "cell_type": "markdown",
   "metadata": {},
   "source": [
    "#### Turcomenistão\n",
    "- Começa em primeiro de junho de 1992"
   ]
  },
  {
   "cell_type": "code",
   "execution_count": 40,
   "metadata": {
    "collapsed": true
   },
   "outputs": [],
   "source": [
    "turkmenistan_start = pd.to_datetime('1992-06-01', format=\"%Y-%m-%d\")"
   ]
  },
  {
   "cell_type": "code",
   "execution_count": 41,
   "metadata": {
    "collapsed": true
   },
   "outputs": [],
   "source": [
    "drop = df[\n",
    "   ( ( df.home_team=='Turkmenistan') | (df.away_team==\"Turkmenistan\") ) \n",
    "   &\n",
    "   ( df.datetime < turkmenistan_start)\n",
    "   ].index\n",
    "\n",
    "df.drop(drop, inplace=True)"
   ]
  },
  {
   "cell_type": "markdown",
   "metadata": {},
   "source": [
    "#### Rússia\n",
    "- Jogos de 1912 até 1914 foram do antigo Império Russo - contam como Rússia\n",
    "- A partir dessa data e até 25 jan. 1992, é a URSS\n",
    "- De 25 jan. 1992 até 18 jun. 1992, as partidas foram disputadas pela CEI - conta como URSS, pois a base do time era a mesma\n",
    "- De 1992 em diante, joga a seleção da Rússia"
   ]
  },
  {
   "cell_type": "code",
   "execution_count": 42,
   "metadata": {
    "collapsed": true
   },
   "outputs": [],
   "source": [
    "# Para cada partida no intervalo de tempo da União Soviética, substituir Rússia por URSS\n",
    "to_change = df[\n",
    "   ( ( df.home_team=='Russia') | (df.away_team==\"Russia\") ) \n",
    "   &\n",
    "   ( (df.datetime > ussr_beginning) & (df.datetime < ussr_end ) )\n",
    "  ]"
   ]
  },
  {
   "cell_type": "code",
   "execution_count": 43,
   "metadata": {
    "collapsed": true
   },
   "outputs": [],
   "source": [
    "# Transforma jogos da Rússia em URSS\n",
    "def get_ussr(row):\n",
    "\n",
    "    # Se o time da casa for a Rússia, trocar por URSS\n",
    "    if row.home_team == 'Russia':\n",
    "        home_team = 'Soviet Union'\n",
    "    else:\n",
    "        home_team = row.home_team\n",
    "        \n",
    "    # Se o time de fora for a Rússia, trocar por URSS\n",
    "    if row.away_team == 'Russia':\n",
    "        away_team = 'Soviet Union'\n",
    "    else:\n",
    "        away_team = row.away_team\n",
    "        \n",
    "    # Retorna uma séria\n",
    "    return pd.Series({'home_team':home_team,\n",
    "                     'away_team':away_team})"
   ]
  },
  {
   "cell_type": "code",
   "execution_count": 44,
   "metadata": {
    "collapsed": true
   },
   "outputs": [],
   "source": [
    "# Muda com base nos índices e colunas\n",
    "function_return = to_change.apply(get_ussr, axis=1)\n",
    "\n",
    "# Substitui ambas as colunas\n",
    "df.loc[function_return.index.tolist(), 'home_team'] = function_return.home_team\n",
    "df.loc[function_return.index.tolist(), 'away_team'] = function_return.away_team\n"
   ]
  },
  {
   "cell_type": "markdown",
   "metadata": {},
   "source": [
    "### Iugoslávia\n",
    "\n",
    "Assim como a URSS, desconsideramos as partidas disputadas por combinados de países-membros durante a existência da união, entre 1920 e 1992 - exceção feita à Croácia, que se uniu tardiamente, nos anos 40.\n",
    "\n",
    "Após o desmembramento, consideramos Iugoslávia, Sérvia e Montenegro e Sérvia times diferentes.\n",
    "\n",
    "No banco de dados, Sérvia e Montenegro, que jogou como seleção única após a dissolução da Iugoslávia, estão como `Serbia`, porém. Serão separados."
   ]
  },
  {
   "cell_type": "code",
   "execution_count": 45,
   "metadata": {
    "collapsed": true
   },
   "outputs": [],
   "source": [
    "# Define datas de início e fim do time da Iugoslávia\n",
    "yugoslavia_start = pd.to_datetime('1920-08-28', format=\"%Y-%m-%d\")\n",
    "yugoslavia_end = pd.to_datetime('1992-03-25', format=\"%Y-%m-%d\")"
   ]
  },
  {
   "cell_type": "markdown",
   "metadata": {},
   "source": [
    "### Iugoslávia\n",
    "Os dados da Iugoslávia (pré-separação) já se encontram corretos no banco de dados."
   ]
  },
  {
   "cell_type": "markdown",
   "metadata": {},
   "source": [
    "#### Croácia\n",
    "- Uma seleção croata existiu durante a ocupação alemã. Além disso, ela disputou amistosos durante a existência da Iugoslávia, principalmente contra outros times das nações que formavam o país. Seguindo critério semelhante ao de países da URSS, jogos anteriores à independência croata serão desconsiderados."
   ]
  },
  {
   "cell_type": "code",
   "execution_count": 46,
   "metadata": {
    "collapsed": true
   },
   "outputs": [],
   "source": [
    "# Data do primeiro jogo oficial da atual seleção croata\n",
    "croatia_start = pd.to_datetime('1990-10-17', format=\"%Y-%m-%d\")"
   ]
  },
  {
   "cell_type": "code",
   "execution_count": 47,
   "metadata": {
    "collapsed": true
   },
   "outputs": [],
   "source": [
    "drop = df[\n",
    "   ( ( df.home_team=='Croatia') | (df.away_team==\"Croatia\") ) \n",
    "   &\n",
    "   ( ( df.datetime > yugoslavia_start) & ( df.datetime < croatia_start ) )\n",
    "   ].index\n",
    "\n",
    "df.drop(drop, inplace=True)"
   ]
  },
  {
   "cell_type": "markdown",
   "metadata": {},
   "source": [
    "#### Eslovênia\n",
    "- Assim como no caso da Croácia, serão desconsiderados os jogos disputados durante a existência da Iugoslávia"
   ]
  },
  {
   "cell_type": "code",
   "execution_count": 48,
   "metadata": {
    "collapsed": true
   },
   "outputs": [],
   "source": [
    "# Data do primeiro jogo oficial\n",
    "slovenia_start = pd.to_datetime('1992-06-03', format=\"%Y-%m-%d\")"
   ]
  },
  {
   "cell_type": "code",
   "execution_count": 49,
   "metadata": {
    "collapsed": true
   },
   "outputs": [],
   "source": [
    "drop = df[\n",
    "   ( ( df.home_team=='Slovenia') | (df.away_team==\"Slovenia\") ) \n",
    "   &\n",
    "   ( ( df.datetime > yugoslavia_start) & ( df.datetime < slovenia_start ) )\n",
    "   ].index\n",
    "\n",
    "df.drop(drop, inplace=True)"
   ]
  },
  {
   "cell_type": "markdown",
   "metadata": {},
   "source": [
    "#### Bósnia e Herzegovina\n",
    "- Assim como nos casos anteriores, serão desconsiderados os jogos disputados durante a existência da Iugoslávia"
   ]
  },
  {
   "cell_type": "code",
   "execution_count": 50,
   "metadata": {
    "collapsed": true
   },
   "outputs": [],
   "source": [
    "# Data do primeiro jogo oficial\n",
    "bosnia_herzegovina_start = pd.to_datetime('1995-11-30', format=\"%Y-%m-%d\")"
   ]
  },
  {
   "cell_type": "code",
   "execution_count": 51,
   "metadata": {
    "collapsed": true
   },
   "outputs": [],
   "source": [
    "drop = df[\n",
    "   ( ( df.home_team=='Bosnia-Herzegovina') | (df.away_team==\"Bosnia-Herzegovina\") ) \n",
    "   &\n",
    "   ( ( df.datetime > yugoslavia_start) & ( df.datetime < bosnia_herzegovina_start ) )\n",
    "   ].index\n",
    "\n",
    "df.drop(drop, inplace=True)"
   ]
  },
  {
   "cell_type": "markdown",
   "metadata": {},
   "source": [
    "#### Macedônia\n",
    "- Assim como nos casos anteriores, serão desconsiderados os jogos disputados durante a existência da Iugoslávia"
   ]
  },
  {
   "cell_type": "code",
   "execution_count": 52,
   "metadata": {
    "collapsed": true
   },
   "outputs": [],
   "source": [
    "macedonia_start = pd.to_datetime('1993-10-13', format=\"%Y-%m-%d\")"
   ]
  },
  {
   "cell_type": "code",
   "execution_count": 53,
   "metadata": {
    "collapsed": true
   },
   "outputs": [],
   "source": [
    "drop = df[\n",
    "   ( ( df.home_team=='Macedonia') | (df.away_team==\"Macedonia\") ) \n",
    "   &\n",
    "   ( ( df.datetime > yugoslavia_start) & ( df.datetime < macedonia_start ) )\n",
    "   ].index\n",
    "\n",
    "df.drop(drop, inplace=True)"
   ]
  },
  {
   "cell_type": "markdown",
   "metadata": {},
   "source": [
    "#### Montenegro\n",
    "- Assim como nos casos anteriores, serão desconsiderados os jogos disputados durante a existência da Iugoslávia, mas também de Sérvia e Montenegro"
   ]
  },
  {
   "cell_type": "code",
   "execution_count": 54,
   "metadata": {
    "collapsed": true
   },
   "outputs": [],
   "source": [
    "montenegro_start = pd.to_datetime('2007-03-24', format=\"%Y-%m-%d\")"
   ]
  },
  {
   "cell_type": "code",
   "execution_count": 55,
   "metadata": {
    "collapsed": true
   },
   "outputs": [],
   "source": [
    "drop = df[\n",
    "   ( ( df.home_team=='Montenegro') | (df.away_team==\"Montenegro\") ) \n",
    "   &\n",
    "   ( ( df.datetime > yugoslavia_start) & ( df.datetime < montenegro_start ) )\n",
    "   ].index\n",
    "\n",
    "df.drop(drop, inplace=True)"
   ]
  },
  {
   "cell_type": "markdown",
   "metadata": {},
   "source": [
    "#### Sérvia e Montenegro\n",
    "É o time que sucede imediatamente a Iugoslávia, por cerca de dez anos com o mesmo nome. Entretanto, a nação mudou de nome em 2003, tornando-se Sérvia e Montenegro. Tratamos a Iugoslávia pós-desemembramento e Sérvia e Montenegro como o mesmo time pois eram, de fato, controlados pela mesma federação.\n",
    "\n",
    "Assim, todos os jogos entre o fim da Iugoslávia, em 1994, e a separação de Sérvia e Montenegro, em 2006, serão considerados como partidas de Sérvia e Montengro."
   ]
  },
  {
   "cell_type": "code",
   "execution_count": 56,
   "metadata": {
    "collapsed": true
   },
   "outputs": [],
   "source": [
    "serbia_and_montenegro_start = yugoslavia_end\n",
    "serbia_and_montenegro_end = pd.to_datetime('2006-06-22', format=\"%Y-%m-%d\")"
   ]
  },
  {
   "cell_type": "code",
   "execution_count": 57,
   "metadata": {
    "collapsed": true
   },
   "outputs": [],
   "source": [
    "to_change = df[\n",
    "   ( ( df.home_team=='Serbia') | (df.away_team==\"Serbia\") ) \n",
    "   &\n",
    "   ( ( df.datetime > serbia_and_montenegro_start) & ( df.datetime < serbia_and_montenegro_end ) )\n",
    "   ]"
   ]
  },
  {
   "cell_type": "code",
   "execution_count": 58,
   "metadata": {
    "collapsed": true
   },
   "outputs": [],
   "source": [
    "# Transforma jogos da Servia em Seriva e Montenegro\n",
    "def get_serbia_and_montenegro(row):\n",
    "\n",
    "    # Se o time da casa for a Servia, trocar por Servia e Montenegro\n",
    "    if row.home_team == 'Serbia':\n",
    "        home_team = 'Serbia and Montenegro'\n",
    "    else:\n",
    "        home_team = row.home_team\n",
    "        country = row.country\n",
    "        \n",
    "    # Se o time de fora for a Rússia, trocar por URSS\n",
    "    if row.away_team == 'Serbia':\n",
    "        home_team = row.home_team\n",
    "        away_team = 'Serbia and Montenegro'\n",
    "    else:\n",
    "        away_team = row.away_team\n",
    "        \n",
    "    # Altera o nome do país da partida para Sérvia e Montenegro, se for o caso\n",
    "    if row.country == 'Yugoslavia':\n",
    "        country = 'Serbia and Montenegro'\n",
    "    else:\n",
    "        country = row.country\n",
    "        \n",
    "    # Retorna uma série\n",
    "    return pd.Series({'home_team':home_team,\n",
    "                     'away_team':away_team,\n",
    "                     'country':country})"
   ]
  },
  {
   "cell_type": "code",
   "execution_count": 59,
   "metadata": {
    "collapsed": true
   },
   "outputs": [],
   "source": [
    "# Muda com base nos índices e colunas\n",
    "function_return = to_change.apply(get_serbia_and_montenegro, axis=1)\n",
    "\n",
    "# Substitui ambas as colunas\n",
    "df.loc[function_return.index.tolist(), 'home_team'] = function_return.home_team\n",
    "df.loc[function_return.index.tolist(), 'away_team'] = function_return.away_team\n",
    "df.loc[function_return.index.tolist(), 'country'] = function_return.country"
   ]
  },
  {
   "cell_type": "markdown",
   "metadata": {},
   "source": [
    "#### Sérvia\n",
    "No banco de dados, todos os jogos após o fim da Iugoslávia original constam como `Serbia`. Já alteramos para que, entre 1994 e 2006, eles sejam considerados como `Serbia and Montenegro`. Depois disso, cada time consta como sua própria seleção, corretamente. "
   ]
  },
  {
   "cell_type": "markdown",
   "metadata": {},
   "source": [
    "### Tchecoslováquia\n",
    "- Consideramos Tchecoslováquia, República Tcheca e Eslováquia como países distintos."
   ]
  },
  {
   "cell_type": "code",
   "execution_count": 60,
   "metadata": {
    "collapsed": true
   },
   "outputs": [],
   "source": [
    "# Define datas de começo e fim da Tchecoslováquia\n",
    "czechoslovakia_start = pd.to_datetime('1918-10-20', format=\"%Y-%m-%d\")\n",
    "czechoslovakia_end = pd.to_datetime('1993-11-18', format=\"%Y-%m-%d\")"
   ]
  },
  {
   "cell_type": "markdown",
   "metadata": {},
   "source": [
    "#### Boêmia\n",
    "- Existem no banco de dados partidas anteriores à criação da Tchecoslováquia. Elas foram disputadas pela Boêmia, que não era um país independente, mas uma provínica do Império Austro-Húngaro. Serão desconsideradas."
   ]
  },
  {
   "cell_type": "code",
   "execution_count": 61,
   "metadata": {
    "collapsed": true
   },
   "outputs": [],
   "source": [
    "# Derruba os jogos da Boêmia\n",
    "drop = df[ ( (df.home_team=='Czechoslovakia') | (df.away_team=='Czechoslovakia') )\n",
    "     &\n",
    "   ( ( df.datetime < czechoslovakia_start) | (df.datetime > czechoslovakia_end) )\n",
    "].index\n",
    "\n",
    "df.drop(drop, inplace=True)"
   ]
  },
  {
   "cell_type": "markdown",
   "metadata": {},
   "source": [
    "#### República Tcheca\n",
    "- Existe apenas após o fim do time Tcheco-eslovaco. Jogos anteriores serão transformados em partidas Tchecoslovacas.\n"
   ]
  },
  {
   "cell_type": "code",
   "execution_count": 62,
   "metadata": {
    "collapsed": true
   },
   "outputs": [],
   "source": [
    "# Define datas de começo e fim da República Tcheca\n",
    "czech_republic_start = pd.to_datetime('1994-02-23', format=\"%Y-%m-%d\")"
   ]
  },
  {
   "cell_type": "code",
   "execution_count": 63,
   "metadata": {
    "collapsed": true
   },
   "outputs": [],
   "source": [
    "# Derruba jogos disputados quando a Rep. Tcheca já existia, mas o time ainda representava a Tchecoslováquia.\n",
    "to_change = df[ ( (df.home_team=='Czech Republic') | (df.away_team=='Czech Republic') )\n",
    "  &\n",
    "  ( (df.datetime < czech_republic_start) ) ]"
   ]
  },
  {
   "cell_type": "code",
   "execution_count": 64,
   "metadata": {
    "collapsed": true
   },
   "outputs": [],
   "source": [
    "# Transforma jogos da Servia em Seriva e Montenegro\n",
    "def get_czechoslovakia(row):\n",
    "\n",
    "    # Se o time da casa for a Servia, trocar por Servia e Montenegro\n",
    "    if row.home_team == 'Czech Republic':\n",
    "        home_team = 'Czechoslovakia'\n",
    "    else:\n",
    "        home_team = row.home_team\n",
    "        country = row.country\n",
    "        \n",
    "    # Se o time de fora for a Rússia, trocar por URSS\n",
    "    if row.away_team == 'Czech Republic':\n",
    "        home_team = row.home_team\n",
    "        away_team = 'Czechoslovakia'\n",
    "    else:\n",
    "        away_team = row.away_team\n",
    "        \n",
    "    # Altera o nome do país da partida para Sérvia e Montenegro, se for o caso\n",
    "    if ( (row.country == 'Czech Republic') | (row.country == 'Slovakia') ):\n",
    "        country = 'Czechoslovakia'\n",
    "    else:\n",
    "        country = row.country\n",
    "        \n",
    "    # Retorna uma série\n",
    "    return pd.Series({'home_team':home_team,\n",
    "                     'away_team':away_team,\n",
    "                     'country':country})"
   ]
  },
  {
   "cell_type": "code",
   "execution_count": 65,
   "metadata": {
    "collapsed": true
   },
   "outputs": [],
   "source": [
    "# Muda com base nos índices e colunas\n",
    "function_return = to_change.apply(get_czechoslovakia, axis=1)\n",
    "\n",
    "# Substitui ambas as colunas\n",
    "df.loc[function_return.index.tolist(), 'home_team'] = function_return.home_team\n",
    "df.loc[function_return.index.tolist(), 'away_team'] = function_return.away_team\n",
    "df.loc[function_return.index.tolist(), 'country'] = function_return.country"
   ]
  },
  {
   "cell_type": "markdown",
   "metadata": {},
   "source": [
    "#### Eslováquia\n",
    "- Existe apenas após o fim da Tchecoslováquia. Jogos anteriores serão desconsiderados. Isso inclui jogos disputados pelo time eslovaco durante a ocupação nazista."
   ]
  },
  {
   "cell_type": "code",
   "execution_count": 66,
   "metadata": {
    "collapsed": true
   },
   "outputs": [],
   "source": [
    "drop = df[ ( (df.home_team=='Slovakia') | (df.away_team=='Slovakia') )\n",
    "  &\n",
    "  ( (df.datetime < czechoslovakia_end) ) ].index\n",
    "\n",
    "df.drop(drop, inplace=True)"
   ]
  },
  {
   "cell_type": "markdown",
   "metadata": {},
   "source": [
    "#### Tchecoslováquia\n",
    "- Com as alterações anteriores, os jogos restantes da Tchecoslováquia estão corretos."
   ]
  },
  {
   "cell_type": "markdown",
   "metadata": {},
   "source": [
    "### Alemanha\n",
    "- Consideramos a existência de três times: a Alemanha (que representa tanto os períodos unificados do país quanto o time ocidental durante a separação pós segunda-guerra), o Protetorado de Saar (território independente que existiu brevemente depois da separação das Alamanhas) e Alemanha Ocidental. Oficialmente, tanto a Saarlândia quanto a Alemanha Oriental foram absorvidas pela República Federativa Alemã, o que justifica a escolha de manter uma continuidade de resultados entre os times alemães pré-guerra, da Alemanha Ocidental durante a separação e, posteriormente, da Alemanha reunificada. Assim, mantemos o formato da base de dados original."
   ]
  },
  {
   "cell_type": "markdown",
   "metadata": {},
   "source": [
    "### Irlanda\n",
    "- Três times: Irlanda pré-separação, chamada apenas de Irlanda, até 1921\n",
    "- República da Irlanda e Irlanda do Norte de 1921 em diante"
   ]
  },
  {
   "cell_type": "markdown",
   "metadata": {},
   "source": [
    "#### Irlanda\n",
    "- Os jogos disputados até 1924, considerados partidas da Irlanda do Norte pela FIFA e pelo banco de dados, serão considerados jogos da Irlanda."
   ]
  },
  {
   "cell_type": "code",
   "execution_count": 67,
   "metadata": {
    "collapsed": true
   },
   "outputs": [],
   "source": [
    "# Define uma data de fim da seleção da Irlanda unificada\n",
    "ireland_end = pd.to_datetime('1922-12-08', format=\"%Y-%m-%d\") # Data em que a Irlanda do Norte escolhe manter-se no Reino Unido"
   ]
  },
  {
   "cell_type": "code",
   "execution_count": 68,
   "metadata": {
    "collapsed": true
   },
   "outputs": [],
   "source": [
    "to_change = df[ ( (df.home_team=='Northern Ireland') | (df.away_team=='Northern Ireland') ) \n",
    "  &\n",
    "  ( (df.datetime < ireland_end) )]"
   ]
  },
  {
   "cell_type": "code",
   "execution_count": 69,
   "metadata": {
    "collapsed": true
   },
   "outputs": [],
   "source": [
    "def get_ireland(row):\n",
    "    # Se o time da casa for a Servia, trocar por Servia e Montenegro\n",
    "    if row.home_team == 'Northern Ireland':\n",
    "        home_team = 'Ireland'\n",
    "    else:\n",
    "        home_team = row.home_team\n",
    "        country = row.country\n",
    "        \n",
    "    # Se o time de fora for a Rússia, trocar por URSS\n",
    "    if row.away_team == 'Northern Ireland':\n",
    "        home_team = row.home_team\n",
    "        away_team = 'Ireland'\n",
    "    else:\n",
    "        away_team = row.away_team\n",
    "        \n",
    "    # Retorna uma série\n",
    "    return pd.Series({'home_team':home_team,\n",
    "                     'away_team':away_team})"
   ]
  },
  {
   "cell_type": "code",
   "execution_count": 70,
   "metadata": {
    "collapsed": true
   },
   "outputs": [],
   "source": [
    "# Muda com base nos índices e colunas\n",
    "function_return = to_change.apply(get_ireland, axis=1)\n",
    "function_return\n",
    "\n",
    "# Substitui ambas as colunas\n",
    "df.loc[function_return.index.tolist(), 'home_team'] = function_return.home_team\n",
    "df.loc[function_return.index.tolist(), 'away_team'] = function_return.away_team"
   ]
  },
  {
   "cell_type": "markdown",
   "metadata": {},
   "source": [
    "#### República da Irlanda\n",
    "- Os jogos nomeados como `Ireland` disputados após o desemembramento da Irlanda serão renomeados para `Republic of Ireland`"
   ]
  },
  {
   "cell_type": "code",
   "execution_count": 71,
   "metadata": {
    "collapsed": true
   },
   "outputs": [],
   "source": [
    "to_change = df[ ( (df.home_team=='Ireland') | (df.away_team=='Ireland') ) \n",
    "  &\n",
    "  ( (df.datetime > ireland_end) )] "
   ]
  },
  {
   "cell_type": "code",
   "execution_count": 72,
   "metadata": {
    "collapsed": true
   },
   "outputs": [],
   "source": [
    "def get_republic_of_ireland(row):\n",
    "    if row.home_team == 'Ireland':\n",
    "        home_team = 'Republic of Ireland'\n",
    "    else:\n",
    "        home_team = row.home_team\n",
    "        country = row.country\n",
    "        \n",
    "    if row.away_team == 'Ireland':\n",
    "        home_team = row.home_team\n",
    "        away_team = 'Republic of Ireland'\n",
    "    else:\n",
    "        away_team = row.away_team\n",
    "        \n",
    "    if ( (row.country == 'Ireland') | (row.country == 'Irisih Free State') | (row.country == 'Éire') ):\n",
    "        country = 'Republic of Ireland'\n",
    "    else:\n",
    "        country = row.country    \n",
    "    \n",
    "    # Retorna uma série\n",
    "    return pd.Series({'home_team':home_team,\n",
    "                     'away_team':away_team,\n",
    "                     'country':country})"
   ]
  },
  {
   "cell_type": "code",
   "execution_count": 73,
   "metadata": {
    "collapsed": true
   },
   "outputs": [],
   "source": [
    "# Muda com base nos índices e colunas\n",
    "function_return = to_change.apply(get_republic_of_ireland, axis=1)\n",
    "\n",
    "# Substitui ambas as colunas\n",
    "df.loc[function_return.index.tolist(), 'home_team'] = function_return.home_team\n",
    "df.loc[function_return.index.tolist(), 'away_team'] = function_return.away_team\n",
    "df.loc[function_return.index.tolist(), 'country'] = function_return.country"
   ]
  },
  {
   "cell_type": "markdown",
   "metadata": {},
   "source": [
    "#### Irlanda do Norte\n",
    "- Serão considerados os jogos disputados após a separação das Irlandas, apenas. Depois das alteraçoões anteriores, os dados já estão corretos."
   ]
  },
  {
   "cell_type": "markdown",
   "metadata": {},
   "source": [
    "### Vietnã\n",
    "- Durante o período de separação, existiram dois times - o Vietnã do Sul e o Vietnã do Norte, embora esse último não fosse membro da Fifa. Depois da reunificação, o time só voltou a jogar após reformas políticas em 1989. A base de dados está correta, com os times classificados como `Vietnam Republic`, `North Vietnam` e `Vietnam`."
   ]
  },
  {
   "cell_type": "markdown",
   "metadata": {},
   "source": [
    "### Iêmen\n",
    "Dois times existiram entre 1965 e 1990, até a unificação. Os jogos do Iêmen do Norte estão apenas como `Yemen` no período. Estes serão corrigidos."
   ]
  },
  {
   "cell_type": "markdown",
   "metadata": {},
   "source": [
    "#### Iêmen do Sul\n",
    "- Jogos já estão corretos."
   ]
  },
  {
   "cell_type": "markdown",
   "metadata": {},
   "source": [
    "#### Iêmen do Norte"
   ]
  },
  {
   "cell_type": "code",
   "execution_count": 74,
   "metadata": {
    "collapsed": true
   },
   "outputs": [],
   "source": [
    "yemen_unification = pd.to_datetime('1990-09-08', format=\"%Y-%m-%d\")"
   ]
  },
  {
   "cell_type": "code",
   "execution_count": 75,
   "metadata": {
    "collapsed": true
   },
   "outputs": [],
   "source": [
    "to_change  = df[ ( (df.home_team=='Yemen') | (df.away_team=='Yemen') )\n",
    "    &\n",
    "   ( (df.datetime < yemen_unification) )\n",
    "  ]"
   ]
  },
  {
   "cell_type": "code",
   "execution_count": 76,
   "metadata": {},
   "outputs": [
    {
     "data": {
      "text/html": [
       "<div>\n",
       "<style>\n",
       "    .dataframe thead tr:only-child th {\n",
       "        text-align: right;\n",
       "    }\n",
       "\n",
       "    .dataframe thead th {\n",
       "        text-align: left;\n",
       "    }\n",
       "\n",
       "    .dataframe tbody tr th {\n",
       "        vertical-align: top;\n",
       "    }\n",
       "</style>\n",
       "<table border=\"1\" class=\"dataframe\">\n",
       "  <thead>\n",
       "    <tr style=\"text-align: right;\">\n",
       "      <th></th>\n",
       "      <th>index</th>\n",
       "      <th>date</th>\n",
       "      <th>home_team</th>\n",
       "      <th>away_team</th>\n",
       "      <th>home_score</th>\n",
       "      <th>away_score</th>\n",
       "      <th>tournament</th>\n",
       "      <th>city</th>\n",
       "      <th>country</th>\n",
       "      <th>loser</th>\n",
       "      <th>winner</th>\n",
       "      <th>datetime</th>\n",
       "      <th>year</th>\n",
       "      <th>difference</th>\n",
       "      <th>total_goals</th>\n",
       "    </tr>\n",
       "  </thead>\n",
       "  <tbody>\n",
       "    <tr>\n",
       "      <th>6109</th>\n",
       "      <td>6109</td>\n",
       "      <td>1966-04-02</td>\n",
       "      <td>Syria</td>\n",
       "      <td>Yemen</td>\n",
       "      <td>4</td>\n",
       "      <td>1</td>\n",
       "      <td>UAFA Cup</td>\n",
       "      <td>Baghdad</td>\n",
       "      <td>Iraq</td>\n",
       "      <td>away_team</td>\n",
       "      <td>home_team</td>\n",
       "      <td>1966-04-02</td>\n",
       "      <td>1966</td>\n",
       "      <td>3</td>\n",
       "      <td>5</td>\n",
       "    </tr>\n",
       "    <tr>\n",
       "      <th>6114</th>\n",
       "      <td>6114</td>\n",
       "      <td>1966-04-04</td>\n",
       "      <td>Palestine</td>\n",
       "      <td>Yemen</td>\n",
       "      <td>7</td>\n",
       "      <td>0</td>\n",
       "      <td>UAFA Cup</td>\n",
       "      <td>Baghdad</td>\n",
       "      <td>Iraq</td>\n",
       "      <td>away_team</td>\n",
       "      <td>home_team</td>\n",
       "      <td>1966-04-04</td>\n",
       "      <td>1966</td>\n",
       "      <td>7</td>\n",
       "      <td>7</td>\n",
       "    </tr>\n",
       "    <tr>\n",
       "      <th>6118</th>\n",
       "      <td>6118</td>\n",
       "      <td>1966-04-06</td>\n",
       "      <td>Libya</td>\n",
       "      <td>Yemen</td>\n",
       "      <td>14</td>\n",
       "      <td>0</td>\n",
       "      <td>UAFA Cup</td>\n",
       "      <td>Baghdad</td>\n",
       "      <td>Iraq</td>\n",
       "      <td>away_team</td>\n",
       "      <td>home_team</td>\n",
       "      <td>1966-04-06</td>\n",
       "      <td>1966</td>\n",
       "      <td>14</td>\n",
       "      <td>14</td>\n",
       "    </tr>\n",
       "    <tr>\n",
       "      <th>8711</th>\n",
       "      <td>8711</td>\n",
       "      <td>1973-08-13</td>\n",
       "      <td>Iraq</td>\n",
       "      <td>Yemen</td>\n",
       "      <td>2</td>\n",
       "      <td>0</td>\n",
       "      <td>Friendly</td>\n",
       "      <td>Benghazi</td>\n",
       "      <td>Libya</td>\n",
       "      <td>away_team</td>\n",
       "      <td>home_team</td>\n",
       "      <td>1973-08-13</td>\n",
       "      <td>1973</td>\n",
       "      <td>2</td>\n",
       "      <td>2</td>\n",
       "    </tr>\n",
       "    <tr>\n",
       "      <th>8714</th>\n",
       "      <td>8714</td>\n",
       "      <td>1973-08-14</td>\n",
       "      <td>Libya</td>\n",
       "      <td>Yemen</td>\n",
       "      <td>10</td>\n",
       "      <td>0</td>\n",
       "      <td>Friendly</td>\n",
       "      <td>Benghazi</td>\n",
       "      <td>Libya</td>\n",
       "      <td>away_team</td>\n",
       "      <td>home_team</td>\n",
       "      <td>1973-08-14</td>\n",
       "      <td>1973</td>\n",
       "      <td>10</td>\n",
       "      <td>10</td>\n",
       "    </tr>\n",
       "  </tbody>\n",
       "</table>\n",
       "</div>"
      ],
      "text/plain": [
       "      index        date  home_team away_team  home_score  away_score  \\\n",
       "6109   6109  1966-04-02      Syria     Yemen           4           1   \n",
       "6114   6114  1966-04-04  Palestine     Yemen           7           0   \n",
       "6118   6118  1966-04-06      Libya     Yemen          14           0   \n",
       "8711   8711  1973-08-13       Iraq     Yemen           2           0   \n",
       "8714   8714  1973-08-14      Libya     Yemen          10           0   \n",
       "\n",
       "     tournament      city country      loser     winner   datetime  year  \\\n",
       "6109   UAFA Cup   Baghdad    Iraq  away_team  home_team 1966-04-02  1966   \n",
       "6114   UAFA Cup   Baghdad    Iraq  away_team  home_team 1966-04-04  1966   \n",
       "6118   UAFA Cup   Baghdad    Iraq  away_team  home_team 1966-04-06  1966   \n",
       "8711   Friendly  Benghazi   Libya  away_team  home_team 1973-08-13  1973   \n",
       "8714   Friendly  Benghazi   Libya  away_team  home_team 1973-08-14  1973   \n",
       "\n",
       "      difference  total_goals  \n",
       "6109           3            5  \n",
       "6114           7            7  \n",
       "6118          14           14  \n",
       "8711           2            2  \n",
       "8714          10           10  "
      ]
     },
     "execution_count": 76,
     "metadata": {},
     "output_type": "execute_result"
    }
   ],
   "source": [
    "to_change.head()"
   ]
  },
  {
   "cell_type": "code",
   "execution_count": 77,
   "metadata": {
    "collapsed": true
   },
   "outputs": [],
   "source": [
    "def get_north_yemen(row):\n",
    "    # Se o time da casa for a Servia, trocar por Servia e Montenegro\n",
    "    if row.home_team == 'Yemen':\n",
    "        home_team = 'Yemen AR'\n",
    "    else:\n",
    "        home_team = row.home_team\n",
    "        country = row.country\n",
    "        \n",
    "    # Se o time de fora for a Rússia, trocar por URSS\n",
    "    if row.away_team == 'Yemen':\n",
    "        home_team = row.home_team\n",
    "        away_team = 'Yemen AR'\n",
    "    else:\n",
    "        away_team = row.away_team\n",
    "        \n",
    "    # Retorna uma série\n",
    "    return pd.Series({'home_team':home_team,\n",
    "                     'away_team':away_team})"
   ]
  },
  {
   "cell_type": "code",
   "execution_count": 78,
   "metadata": {
    "collapsed": true
   },
   "outputs": [],
   "source": [
    "# Muda com base nos índices e colunas\n",
    "function_return = to_change.apply(get_north_yemen, axis=1)\n",
    "\n",
    "# Substitui ambas as colunas\n",
    "df.loc[function_return.index.tolist(), 'home_team'] = function_return.home_team\n",
    "df.loc[function_return.index.tolist(), 'away_team'] = function_return.away_team"
   ]
  },
  {
   "cell_type": "markdown",
   "metadata": {},
   "source": [
    "#### Iêmen\n",
    "- Com as alterações anteriores, os jogos do Iêmen estão corretos."
   ]
  },
  {
   "cell_type": "markdown",
   "metadata": {},
   "source": [
    "### República Árabe Unida\n",
    "- Entre 1958 e 1961, foi uma união das equipes de Síria e Egito. No banco de dados, os jogos dessa época estão como `Egpyt`. Serão renomeados. Os demais jogos de Egito e Síria estão corretos."
   ]
  },
  {
   "cell_type": "code",
   "execution_count": 79,
   "metadata": {
    "collapsed": true
   },
   "outputs": [],
   "source": [
    "uar_begins = pd.to_datetime('1958-02-22', format=\"%Y-%m-%d\")\n",
    "uar_ends = pd.to_datetime('1961-09-28', format=\"%Y-%m-%d\")"
   ]
  },
  {
   "cell_type": "code",
   "execution_count": 80,
   "metadata": {
    "collapsed": true
   },
   "outputs": [],
   "source": [
    "to_change = df[ ( (df.home_team=='Egypt') | (df.away_team=='Egypt') ) \n",
    "   &\n",
    "   ( (df.datetime > uar_begins) & (df.datetime < uar_ends) )\n",
    "  ]"
   ]
  },
  {
   "cell_type": "code",
   "execution_count": 81,
   "metadata": {
    "collapsed": true
   },
   "outputs": [],
   "source": [
    "def get_uar(row):\n",
    "    # Se o time da casa for a Servia, trocar por Servia e Montenegro\n",
    "    if row.home_team == 'Egypt':\n",
    "        home_team = 'United Arab Republic'\n",
    "    else:\n",
    "        home_team = row.home_team\n",
    "        country = row.country\n",
    "        \n",
    "    # Se o time de fora for a Rússia, trocar por URSS\n",
    "    if row.away_team == 'Egypt':\n",
    "        home_team = row.home_team\n",
    "        away_team = 'United Arab Republic'\n",
    "    else:\n",
    "        away_team = row.away_team\n",
    "        \n",
    "    # Retorna uma série\n",
    "    return pd.Series({'home_team':home_team,\n",
    "                     'away_team':away_team})"
   ]
  },
  {
   "cell_type": "code",
   "execution_count": 82,
   "metadata": {
    "collapsed": true
   },
   "outputs": [],
   "source": [
    "# Muda com base nos índices e colunas\n",
    "function_return = to_change.apply(get_uar, axis=1)\n",
    "\n",
    "# Substitui ambas as colunas\n",
    "df.loc[function_return.index.tolist(), 'home_team'] = function_return.home_team\n",
    "df.loc[function_return.index.tolist(), 'away_team'] = function_return.away_team"
   ]
  },
  {
   "cell_type": "markdown",
   "metadata": {},
   "source": [
    "### Antilhas Holandesas\n",
    "- Existiu até 2011, quando os países se desmembraram. Jogos de países membros (Aruba, até 1986; Curaçao, Sint Maarten e Bonaire, até 2011) serão desconsiderados."
   ]
  },
  {
   "cell_type": "markdown",
   "metadata": {},
   "source": [
    "#### Curaçao\n",
    "- Existe oficialmente a partir de 2011. Antes disso, era conhecido como 'Antilhas Holandesas'. Esse nome será aplicado para os jogos anteriores à fundação do país."
   ]
  },
  {
   "cell_type": "code",
   "execution_count": 83,
   "metadata": {
    "collapsed": true
   },
   "outputs": [],
   "source": [
    "curaçao_start = pd.to_datetime('2010-10-10', format=\"%Y-%m-%d\")"
   ]
  },
  {
   "cell_type": "code",
   "execution_count": 84,
   "metadata": {
    "collapsed": true
   },
   "outputs": [],
   "source": [
    "to_change = df[ ( (df.home_team=='Curaçao') | (df.away_team=='Curaçao') ) \n",
    "   &\n",
    "   ( (df.datetime < curaçao_start) )\n",
    "  ]"
   ]
  },
  {
   "cell_type": "code",
   "execution_count": 85,
   "metadata": {
    "collapsed": true
   },
   "outputs": [],
   "source": [
    "def get_netherland_antilles(row):\n",
    "    if row.home_team == 'Curaçao':\n",
    "        home_team = 'Netherlands Antilles'\n",
    "    else:\n",
    "        home_team = row.home_team\n",
    "        country = row.country\n",
    "\n",
    "    if row.away_team == 'Curaçao':\n",
    "        home_team = row.home_team\n",
    "        away_team = 'Netherlands Antilles'\n",
    "    else:\n",
    "        away_team = row.away_team\n",
    "\n",
    "    if (row.country == 'Curaçao'):\n",
    "        country = 'Netherlands Antilles'\n",
    "    else:\n",
    "        country = row.country    \n",
    "\n",
    "    # Retorna uma série\n",
    "    return pd.Series({'home_team':home_team,\n",
    "                     'away_team':away_team,\n",
    "                     'country':country})"
   ]
  },
  {
   "cell_type": "code",
   "execution_count": 86,
   "metadata": {
    "collapsed": true
   },
   "outputs": [],
   "source": [
    "function_return = to_change.apply(get_netherland_antilles, axis=1)\n",
    "# Substitui ambas as colunas\n",
    "df.loc[function_return.index.tolist(), 'home_team'] = function_return.home_team\n",
    "df.loc[function_return.index.tolist(), 'away_team'] = function_return.away_team\n",
    "df.loc[function_return.index.tolist(), 'country'] = function_return.country\n"
   ]
  },
  {
   "cell_type": "markdown",
   "metadata": {},
   "source": [
    "#### Aruba\n",
    "- Ignorar jogos anteriores à independência do país"
   ]
  },
  {
   "cell_type": "code",
   "execution_count": 87,
   "metadata": {
    "collapsed": true
   },
   "outputs": [],
   "source": [
    "aruba_start = pd.to_datetime('1986-01-01', format=\"%Y-%m-%d\")"
   ]
  },
  {
   "cell_type": "code",
   "execution_count": 88,
   "metadata": {
    "collapsed": true
   },
   "outputs": [],
   "source": [
    "drop = df[ ( (df.home_team=='Aruba') | (df.away_team=='Aruba') ) \n",
    "   &\n",
    "   ( (df.datetime < aruba_start) )\n",
    "  ].index\n",
    "\n",
    "df.drop(drop, inplace=True)"
   ]
  },
  {
   "cell_type": "markdown",
   "metadata": {},
   "source": [
    "#### Sint Maarten\n",
    "- Ignorar jogos anteriores à independência do país"
   ]
  },
  {
   "cell_type": "code",
   "execution_count": 89,
   "metadata": {
    "collapsed": true
   },
   "outputs": [],
   "source": [
    "sint_maarten_start = pd.to_datetime('2010-10-10', format=\"%Y-%m-%d\")"
   ]
  },
  {
   "cell_type": "code",
   "execution_count": 90,
   "metadata": {
    "collapsed": true
   },
   "outputs": [],
   "source": [
    "drop = df[ ( (df.home_team=='Sint Maarten') | (df.away_team=='Sint Maarten') ) \n",
    "   &\n",
    "   ( (df.datetime < sint_maarten_start) )\n",
    "  ].index\n",
    "\n",
    "df.drop(drop, inplace=True)"
   ]
  },
  {
   "cell_type": "markdown",
   "metadata": {},
   "source": [
    "#### Bonaire\n",
    "- Ignorar jogos anteriores à independência do país"
   ]
  },
  {
   "cell_type": "code",
   "execution_count": 91,
   "metadata": {
    "collapsed": true
   },
   "outputs": [],
   "source": [
    "bonaire_start = pd.to_datetime('2010-10-10', format=\"%Y-%m-%d\")"
   ]
  },
  {
   "cell_type": "code",
   "execution_count": 92,
   "metadata": {
    "collapsed": true
   },
   "outputs": [],
   "source": [
    "drop = df[ ( (df.home_team=='Bonaire') | (df.away_team=='Bonaire') ) \n",
    "   &\n",
    "   ( (df.datetime < bonaire_start) )\n",
    "  ].index\n",
    "\n",
    "df.drop(drop, inplace=True)"
   ]
  },
  {
   "cell_type": "markdown",
   "metadata": {},
   "source": [
    "### Palestina\n",
    "- Vamos considerar três times distintos. Mandato da Palestina, Israel e Palestina."
   ]
  },
  {
   "cell_type": "markdown",
   "metadata": {},
   "source": [
    "#### Mandato da Palestina\n",
    "- Jogos de Israel antes da criação do Estado serão considerados como Mandato da Palestina."
   ]
  },
  {
   "cell_type": "code",
   "execution_count": 93,
   "metadata": {
    "collapsed": true
   },
   "outputs": [],
   "source": [
    "mandatory_palestine_end = pd.to_datetime('1948-05-14', format=\"%Y-%m-%d\")"
   ]
  },
  {
   "cell_type": "code",
   "execution_count": 94,
   "metadata": {
    "collapsed": true
   },
   "outputs": [],
   "source": [
    "to_change = df[ ( (df.home_team=='Israel') | (df.away_team=='Israel') ) \n",
    "  &\n",
    "  ( (df.datetime < mandatory_palestine_end) )]"
   ]
  },
  {
   "cell_type": "code",
   "execution_count": 95,
   "metadata": {
    "collapsed": true
   },
   "outputs": [],
   "source": [
    "def get_mandatory_palestine(row):\n",
    "    if row.home_team == 'Israel':\n",
    "        home_team = 'Mandatory Palestine'\n",
    "    else:\n",
    "        home_team = row.home_team\n",
    "        country = row.country\n",
    "\n",
    "    if row.away_team == 'Israel':\n",
    "        home_team = row.home_team\n",
    "        away_team = 'Mandatory Palestine'\n",
    "    else:\n",
    "        away_team = row.away_team\n",
    "\n",
    "    if (row.country == 'Palestine'):\n",
    "        country = 'Mandatory Palestine'\n",
    "    else:\n",
    "        country = row.country    \n",
    "\n",
    "    # Retorna uma série\n",
    "    return pd.Series({'home_team':home_team,\n",
    "                     'away_team':away_team,\n",
    "                      'country':country})"
   ]
  },
  {
   "cell_type": "code",
   "execution_count": 96,
   "metadata": {
    "collapsed": true
   },
   "outputs": [],
   "source": [
    "# Aplica a função\n",
    "function_return = to_change.apply(get_mandatory_palestine, axis=1)\n",
    "# Substitui ambas as colunas\n",
    "df.loc[function_return.index.tolist(), 'home_team'] = function_return.home_team\n",
    "df.loc[function_return.index.tolist(), 'away_team'] = function_return.away_team\n",
    "df.loc[function_return.index.tolist(), 'country'] = function_return.country"
   ]
  },
  {
   "cell_type": "markdown",
   "metadata": {},
   "source": [
    "### Israel e Palestina\n",
    "- Estão corretos depois das alteraçoões feitas."
   ]
  },
  {
   "cell_type": "code",
   "execution_count": 97,
   "metadata": {
    "collapsed": true
   },
   "outputs": [],
   "source": [
    "# Seleciona os países com nome 'Burma'\n",
    "to_change = df[ ( (df.home_team=='Burma') | (df.away_team=='Burma') ) ]"
   ]
  },
  {
   "cell_type": "code",
   "execution_count": 98,
   "metadata": {
    "collapsed": true
   },
   "outputs": [],
   "source": [
    "def get_myanmar(row):\n",
    "    if row.home_team == 'Burma':\n",
    "        home_team = 'Myanmar'\n",
    "    else:\n",
    "        home_team = row.home_team\n",
    "        country = row.country\n",
    "\n",
    "    if row.away_team == 'Burma':\n",
    "        home_team = row.home_team\n",
    "        away_team = 'Myanmar'\n",
    "    else:\n",
    "        away_team = row.away_team\n",
    "\n",
    "    if (row.country == 'Burma'):\n",
    "        country = 'Myanmar'\n",
    "    else:\n",
    "        country = row.country    \n",
    "\n",
    "    # Retorna uma série\n",
    "    return pd.Series({'home_team':home_team,\n",
    "                     'away_team':away_team,\n",
    "                      'country':country})\n",
    "\n",
    "function_return = to_change.apply(get_myanmar, axis=1)\n",
    "# Substitui ambas as colunas\n",
    "df.loc[function_return.index.tolist(), 'home_team'] = function_return.home_team\n",
    "df.loc[function_return.index.tolist(), 'away_team'] = function_return.away_team\n",
    "df.loc[function_return.index.tolist(), 'country'] = function_return.country"
   ]
  },
  {
   "cell_type": "markdown",
   "metadata": {},
   "source": [
    "# Derrubar jogos de países que nunca tenham sido membros da FIFA\n",
    "- Para manter apenas as naçoões relevantes no ranking, vamos derrubar jogos que tenham participação de times que jamais tenham sido membros plenos da Fifa."
   ]
  },
  {
   "cell_type": "code",
   "execution_count": 99,
   "metadata": {
    "collapsed": true
   },
   "outputs": [],
   "source": [
    "# Seleciona países cujos jogos serão ignorados\n",
    "to_drop = ['Bonaire', 'Cantabria', 'Greenland', 'Guernsey', 'Jersey', 'Manchukuo',\n",
    "          'Mayotte', 'North Vietnam', 'Palau', 'Monaco', 'Micronesia FS', 'Northern Cyprus',\n",
    "          'Sint Maarten', 'St Pierre & Miquelon', 'Wallis Islands and Futuna', 'Nauru', 'Niue',\n",
    "          'Réunion', 'Tuvalu', \"French Guiana\", \"Guadeloupe\", \"Martinique\", \"Northern Mariana Islands\", \n",
    "           \"Saint Martin\", \"Zanzibar\", \"Tibet\", \"St-Barthélemy\", \"French Guyana\"]"
   ]
  },
  {
   "cell_type": "code",
   "execution_count": 100,
   "metadata": {
    "collapsed": true
   },
   "outputs": [],
   "source": [
    "# Remove as linhas que contenham algum desses times\n",
    "df = df[(df.home_team.isin(to_drop) == False) & (df.away_team.isin(to_drop) == False)]"
   ]
  },
  {
   "cell_type": "markdown",
   "metadata": {},
   "source": [
    "# Ajustar peso das partidas\n",
    "Vamos atribuir pesos diferentes para as competições de acordo com a região e importância do torneio."
   ]
  },
  {
   "cell_type": "code",
   "execution_count": 101,
   "metadata": {
    "collapsed": true
   },
   "outputs": [],
   "source": [
    "# Separa as eliminatórias da Copa nos diferentes continentes\n",
    "teams_by_confederation = {\n",
    "    'Asia':['Afghanistan', 'Bahrain', 'Bangladesh', 'Belarus', 'Bhutan', 'Brunei', 'Cambodia', 'China',\n",
    "           'China PR', 'East Timor', 'Guam', 'Hong Kong', 'India', 'Indonesia', 'Iran', 'Iraq', 'Japan', \n",
    "            'Jordan', 'Korea DPR', 'Korea Republic', 'Kuwait', 'Kyrgyzstan', 'Laos', 'Lebanon', 'Macau', \n",
    "           'Malaysia', 'Maldives', 'Mandatory Palestine', 'Mongolia', 'Myanmar', 'Nepal', 'Northern Mariana Islands',\n",
    "           'Oman', 'Pakistan', 'Palestine', 'Philippines', 'Qatar', 'Saudi Arabia', 'Singapore', 'Sri Lanka', 'Taiwan',\n",
    "           'Tajikistan', 'Thailand', 'Turkmenistan', 'Uzbekistan', 'Vietnam', 'Vietnam Republic', 'Yemen', 'Yemen AR',\n",
    "           'Yemen DPR', 'United Arab Republic', 'United Arab Emirates', 'Syria'],\n",
    "    \n",
    "    \n",
    "    'Africa':['Algeria', 'Angola', 'Benin', 'Botswana', 'Burkina Faso', 'Burundi', 'Cameroon', 'Cape Verde',\n",
    "             'Central African Republic', 'Chad', 'Comoros', 'Congo', 'Congo DR', 'Djibouti', 'Egypt', \n",
    "              'Equatorial Guinea', 'Eritrea', 'Ethiopia', 'Gabon', 'Gambia', 'Ghana', 'Guinea', 'Guinea-Bissau',\n",
    "             'Ivory Coast', 'Kenya', 'Lesotho', 'Liberia', 'Libya', 'Madagascar', 'Malawi', 'Mali', 'Mauritania',\n",
    "             'Mauritius', 'Morocco', 'Mozambique', 'Namibia', 'Niger', 'Nigeria', 'Rwanda', 'Senegal', 'Seychelles',\n",
    "              'Sierra Leone', 'Somalia', 'South Africa', 'South Sudan', 'Sudan', 'Swaziland', 'São Tomé and Príncipe',\n",
    "              'Tanzania', 'Togo', 'Tunisia', 'Uganda', 'Zambia', 'Zanzibar', 'Zimbabwe'\n",
    "             ],\n",
    "    \n",
    "    \n",
    "    'Europe':['Albania','Andorra', 'Armenia', 'Austria', 'Azerbaijan', 'Belgium', 'Bosnia-Herzegovina', 'Bulgaria',\n",
    "             'Croatia', 'Cyprus', 'Czech Republic', 'Czechoslovakia', 'Denmark', 'England', 'Estonia',\n",
    "             'Faroe Islands', 'Finland', 'France', 'Georgia', 'German DR', 'Germany', 'Gibraltar',\n",
    "             'Greece', 'Hungary', 'Iceland', 'Ireland', 'Israel', 'Italy', 'Kazakhstan', 'Kosovo',\n",
    "              'Latvia', 'Liechtenstein', 'Lithuania', 'Luxembourg', 'Macedonia', 'Malta', 'Moldova', 'Montenegro',\n",
    "             'Netherlands', 'Northern Ireland', 'Norway', 'Poland', 'Portugal', 'Republic of Ireland', 'Romania',\n",
    "             'Russia', 'Saarland', 'San Marino', 'Scotland', 'Serbia', 'Serbia and Montenegro', 'Slovakia', 'Slovenia',\n",
    "             'Soviet Union', 'Spain', 'Sweden', 'Switzerland', 'Turkey', 'Ukraine', 'Wales', 'Yugoslavia'],\n",
    "    \n",
    "    \n",
    "    \n",
    "    'South America':['Argentina', 'Bolivia', 'Brazil', 'Chile', 'Colombia', 'Ecuador', 'Paraguay', \n",
    "                     'Peru', 'Venezuela', 'Uruguay'],\n",
    "    \n",
    "    \n",
    "    \n",
    "    'North and Central America':['Aruba','Anguilla', 'Antigua and Barbuda', 'Bahamas', 'Barbados', 'Belize', 'Bermuda',\n",
    "                                'British Virgin Islands', 'Canada', 'Cayman Islands', 'Costa Rica', 'Cuba',\n",
    "                                'Curaçao', 'Dominica', 'Dominican Republic', 'El Salvador', 'French Guyana',\n",
    "                                'Grenada', 'Guadeloupe', 'Guyana', 'Haiti', 'Honduras', 'Jamaica', 'Martinique',\n",
    "                                'Mexico', 'Montserrat', 'Netherlands Antilles','Nicaragua', 'Panama', 'Puerto Rico',\n",
    "                                'St Kitts and Nevis', 'St Lucia', 'St Martin', 'St Vincent and the Grenadines',\n",
    "                                'Suriname', 'Trinidad and Tobago', 'Turks and Caicos Islands', 'USA', 'Virgin Islands',\n",
    "                                'Guatemala'],\n",
    "    \n",
    "    \n",
    "    'Oceania':['American Samoa', 'Australia', 'Cook Islands', 'Fiji', 'Kiribati', 'New Caledonia', 'New Zealand',\n",
    "              'Papua New Guinea', 'Samoa', 'Solomon Islands', 'Tahiti', 'Tonga', 'Vanuatu'],\n",
    "}\n",
    "\n"
   ]
  },
  {
   "cell_type": "code",
   "execution_count": 102,
   "metadata": {
    "collapsed": true
   },
   "outputs": [],
   "source": [
    "# Essa função determina em qual continente foi disputada a eliminatória\n",
    "def get_qualitifcation_continent(row, teams_by_confederation):\n",
    "    prefix = 'FIFA World Cup qualification: '\n",
    "\n",
    "    if row.home_team in teams_by_confederation['Asia']:\n",
    "        tournament = prefix + 'Asia'\n",
    "    elif row.home_team in teams_by_confederation['Africa']:\n",
    "        tournament = prefix + 'Africa'\n",
    "    elif row.home_team in teams_by_confederation['Europe']:\n",
    "        tournament = prefix + 'Europe'\n",
    "    elif row.home_team in teams_by_confederation['South America']:\n",
    "        tournament = prefix + 'South America'\n",
    "    elif row.home_team in teams_by_confederation['North and Central America']:\n",
    "        tournament = prefix + 'North and Central America'\n",
    "    elif row.home_team in teams_by_confederation['Oceania']:\n",
    "        tournament = prefix + 'Oceania'\n",
    "        \n",
    "    return pd.Series({'tournament':tournament})\n"
   ]
  },
  {
   "cell_type": "code",
   "execution_count": 103,
   "metadata": {
    "collapsed": true
   },
   "outputs": [],
   "source": [
    "to_change = df[df.tournament=='FIFA World Cup qualification']\n",
    "function_return = to_change.apply(get_qualitifcation_continent, args=(teams_by_confederation,), axis=1)\n",
    "df.loc[function_return.index.tolist(), 'tournament'] = function_return.tournament"
   ]
  },
  {
   "cell_type": "code",
   "execution_count": 104,
   "metadata": {
    "collapsed": true
   },
   "outputs": [],
   "source": [
    "# Considerar casos de países que trocaram de federação nas eliminatórias: Austrália, Israel, Cazaquistão, Nova Zelândia.\n",
    "\n",
    "## Israel\n",
    "to_change = df[(df.home_team=='Israel') & (df.tournament == \"FIFA World Cup qualification: Europe\")]\n",
    "def get_right_israel(row):\n",
    "    if row.year in range(1954, 1975):\n",
    "        tournament = \"FIFA World Cup qualification: Asia\"\n",
    "    elif row.year in range(1978, 1991):\n",
    "        tournament = \"FIFA World Cup qualification: Oceania\"\n",
    "    else:\n",
    "        tournament = row.tournament\n",
    "    \n",
    "    return pd.Series({'tournament':tournament})\n",
    "function_return = to_change.apply(get_right_israel, axis=1)\n",
    "df.loc[function_return.index, 'tournament'] = function_return.tournament\n",
    "\n",
    "## Australia\n",
    "to_change = df[(df.home_team=='Australia') & (df.tournament == \"FIFA World Cup qualification: Asia\")]\n",
    "def get_right_australia(row):\n",
    "    if row.year in range(1966, 2007):\n",
    "        tournament = \"FIFA World Cup qualification: Oceania\"\n",
    "    else:\n",
    "        tournament = row.tournament\n",
    "\n",
    "    return pd.Series({'tournament':tournament})\n",
    "function_return = to_change.apply(get_right_australia, axis=1)\n",
    "df.loc[function_return.index, 'tournament'] = function_return.tournament\n",
    "\n",
    "to_change = df[(df.home_team=='New Zealand') & (df.tournament == \"FIFA World Cup qualification: Oceania\")]\n",
    "def get_right_new_zealand(row):\n",
    "    if row.year in range(1964,1967):\n",
    "        tournament = \"FIFA World Cup qualification: Oceania\"\n",
    "    else:\n",
    "        tournament = row.tournament\n",
    "\n",
    "    return pd.Series({'tournament':tournament})\n",
    "function_return = to_change.apply(get_right_new_zealand, axis=1)\n",
    "df.loc[function_return.index, 'tournament'] = function_return.tournament\n",
    "\n",
    "\n",
    "# Cazaquistão:\n",
    "to_change =  df[(df.home_team=='Kazakhstan') & (df.tournament == \"FIFA World Cup qualification: Europe\")]\n",
    "def get_right_kazakhsthan(row):\n",
    "    if row.year in range(1993,2003):\n",
    "        tournament = \"FIFA World Cup qualification: Asia\"\n",
    "    else:\n",
    "        tournament = row.tournament\n",
    "\n",
    "    return pd.Series({'tournament':tournament})\n",
    "function_return = to_change.apply(get_right_kazakhsthan, axis=1)\n",
    "df.loc[function_return.index, 'tournament'] = function_return.tournament"
   ]
  },
  {
   "cell_type": "code",
   "execution_count": 105,
   "metadata": {
    "collapsed": true
   },
   "outputs": [],
   "source": [
    "# Calcula o peso K de cada partida\n",
    "criteria = {\n",
    "    'k60':['FIFA World Cup'],\n",
    "    'k50':['Copa América', 'UEFA Euro', 'Confederations Cup', \n",
    "           'FIFA World Cup qualification: Europe', 'FIFA World Cup qualification: South America', 'Olympic Games'],\n",
    "    'k30':['African Cup of Nations', 'AFC Asian Cup', 'CONCACAF Championship',\n",
    "          'Gold Cup', 'Pan American Championship', 'UEFA Euro qualification'],\n",
    "    'k20':['FIFA World Cup qualification: Asia', 'FIFA World Cup qualification: North and Central America',\n",
    "          'FIFA World Cup qualification: Africa', 'FIFA World Cup qualification: Oceania'],\n",
    "    'k15':['African Cup of Nations qualification', 'AFC Asian Cup qualification',\n",
    "          'CONCACAF Championship qualification', 'Gold Cup qualification', \n",
    "           'Oceania Nations Cup',],\n",
    "\n",
    "}\n",
    "\n",
    "def get_k_factor(row, criteria):\n",
    "    if row.tournament in criteria['k60']:\n",
    "        k_factor = 60\n",
    "    elif row.tournament in criteria['k50']:\n",
    "        k_factor = 50\n",
    "    elif row.tournament in criteria['k30']:\n",
    "        k_factor = 30\n",
    "    elif row.tournament in criteria['k20']:\n",
    "        k_factor = 20\n",
    "    elif row.tournament in criteria['k15']:\n",
    "        k_factor = 15\n",
    "    else:\n",
    "        k_factor = 10\n",
    "    return pd.Series({'k_factor':k_factor})\n",
    "\n",
    "# Roda função\n",
    "df['k_factor'] = df.apply(get_k_factor, args=(criteria,), axis=1)"
   ]
  },
  {
   "cell_type": "code",
   "execution_count": 106,
   "metadata": {
    "collapsed": true
   },
   "outputs": [],
   "source": [
    "# Ordena partidas de acordo com data. Reseta o index na ordem cronológica\n",
    "df = df.sort_values(by='datetime').reset_index(drop=True)"
   ]
  },
  {
   "cell_type": "code",
   "execution_count": 107,
   "metadata": {
    "collapsed": true
   },
   "outputs": [],
   "source": [
    "# Adiciona um id único para cada partida, com base no index + 1\n",
    "df[\"match_id\"] = [str(item) for item in (df.index.values + 1)]"
   ]
  },
  {
   "cell_type": "markdown",
   "metadata": {},
   "source": [
    "## Cálculo"
   ]
  },
  {
   "cell_type": "code",
   "execution_count": 108,
   "metadata": {
    "collapsed": true
   },
   "outputs": [],
   "source": [
    "elo_df = []\n",
    "elo_by_team = {}\n",
    "team_list = []\n",
    "seasons = df.year.unique()\n",
    "for season in seasons:\n",
    "    # Itera por todos os anos que o time jogou, calculando jogos falsos para implementar o decréscimo de 10% na pontuação anual \n",
    "    for team in team_list: # Note que team_list está vazia no começo do loop, então na primeira iteração,\n",
    "                           # o bloco de código abaixo não é executado.\n",
    "                           # Na sequência, itens são adicionados a lista e, progressivamente, \n",
    "                           # são criados os jogos fake necessários\n",
    "        \n",
    "        # Adiciona um jogo fake no dia primeiro de janeiro\n",
    "        original_elo = elo_by_team[team][-1]['current_elo']\n",
    "        decreased_elo = original_elo\n",
    "        fake_date = datetime.strptime(str(season-1) + '-12-31', \"%Y-%m-%d\")\n",
    "\n",
    "        # Adiciona linha no dicionário controle\n",
    "        elo_by_team[team].append({'current_elo':decreased_elo, 'datetime':fake_date})\n",
    "\n",
    "        # Adiciona uma linha no dataframe também\n",
    "        elo_df.append({\"datetime\":fake_date, \"team\":team, \"opponent\":'end-of-year', 'opponent_elo':'',\n",
    "           \"goals_scored\":'', \"goals_conceded\":'', \n",
    "           \"new_elo\":decreased_elo, \"old_elo\":original_elo,\n",
    "           \"location\":'', 'year':season-1, 'tournament':'', 'fake_flag':'yes',\n",
    "            \"match_id\":\"0\"\n",
    "          })\n",
    "\n",
    "        # Adiciona um jogo fake no dia 31 de dezembro\n",
    "        \n",
    "        # Calcula campos falsos\n",
    "        decreased_elo = round(original_elo * 0.9)\n",
    "        fake_date = datetime.strptime(str(season) + '-01-01', \"%Y-%m-%d\")\n",
    "\n",
    "        # Adiciona linha no dicionário controle\n",
    "        elo_by_team[team].append({'current_elo':decreased_elo, 'datetime':fake_date})\n",
    "\n",
    "        # Adiciona uma linha no dataframe também\n",
    "        elo_df.append({\"datetime\":fake_date, \"team\":team, \"opponent\":'beginning-of-year', 'opponent_elo':'',\n",
    "           \"goals_scored\":'', \"goals_conceded\":'', \n",
    "           \"new_elo\":decreased_elo, \"old_elo\":original_elo,\n",
    "           \"location\":'', 'year':season, 'tournament':'','fake_flag':'yes',\n",
    "           \"match_id\":\"0\"\n",
    "        })\n",
    "\n",
    "    # Aqui começa o cálculo real\n",
    "    for index, row in df[df.year==season].iterrows():\n",
    "        home_team = row.home_team\n",
    "        home_score = row.home_score\n",
    "        away_team = row.away_team\n",
    "        away_score = row.away_score\n",
    "        difference = row.difference\n",
    "        location = row.city + ', ' + row.country\n",
    "        k_factor = row.k_factor\n",
    "        tournament = row.tournament\n",
    "        match_id = row.match_id\n",
    "\n",
    "        # Pega o elo do time da casa\n",
    "        if home_team in team_list: # Se ele já apareceu antes\n",
    "            home_team_elo = elo_by_team[home_team][-1]['current_elo'] # Acessa último elo\n",
    "        else: # Se ele nunca apareceu antes\n",
    "            home_team_elo = 0\n",
    "            team_list.append(home_team)\n",
    "            elo_by_team[home_team] = []\n",
    "\n",
    "        # Pega o elo do time visitante\n",
    "        if away_team in team_list: # Se ele já apareceu antes\n",
    "            away_team_elo = elo_by_team[away_team][-1]['current_elo'] # Acessa último elo\n",
    "        else: # Se ele nunca apareceu antes\n",
    "            away_team_elo = 0\n",
    "            team_list.append(away_team)\n",
    "            elo_by_team[away_team] = []\n",
    "\n",
    "        # Calcula as chances de vitória de cada time\n",
    "        chances = get_win_expectancy(home_team_elo, away_team_elo) # Chances do home team sempre na posição 0, away team na posição 1\n",
    "\n",
    "        # Com o resultado em mãos, calcula a variação da pontuação elo das equipes\n",
    "        if row.winner == 'home_team':\n",
    "            home_new_elo = get_home_new_elo(1, chances, difference, k_factor, home_team_elo)\n",
    "            away_new_elo = get_away_new_elo(0, chances, difference, k_factor, away_team_elo)\n",
    "        elif row.winner == 'away_team':\n",
    "            home_new_elo = get_home_new_elo(0, chances, difference, k_factor, home_team_elo)\n",
    "            away_new_elo = get_away_new_elo(1, chances, difference, k_factor, away_team_elo)\n",
    "        else: #It's a draw\n",
    "            home_new_elo = get_home_new_elo(.5, chances, difference, k_factor, home_team_elo)\n",
    "            away_new_elo = get_away_new_elo(.5, chances, difference, k_factor, away_team_elo)\n",
    "\n",
    "        # Adiciona novo elo para o df\n",
    "        \n",
    "        # Time da casa\n",
    "        elo_df.append({\"datetime\":row.datetime, \"team\":home_team, \"opponent\":away_team, 'opponent_elo':away_team_elo,\n",
    "                       \"goals_scored\":home_score, \"goals_conceded\":away_score, \n",
    "                       \"new_elo\":home_new_elo, \"old_elo\":home_team_elo,\n",
    "                       \"location\":location, 'year':season, 'tournament':tournament, 'fake_flag':'no',\n",
    "                       \"match_id\":match_id\n",
    "                      })\n",
    "\n",
    "        # Time visitante\n",
    "        elo_df.append({\"datetime\":row.datetime, \"team\":away_team, \"opponent\":home_team, 'opponent_elo':home_team_elo,\n",
    "                       \"goals_scored\":away_score, \"goals_conceded\":home_score, \n",
    "                       \"new_elo\":away_new_elo, \"old_elo\":away_team_elo,\n",
    "                       \"location\":location, 'year':season, 'tournament':tournament, 'fake_flag':'no',\n",
    "                       \"match_id\":match_id\n",
    "                      })\n",
    "\n",
    "        # Adiciona para o dicionário de cada clube para controlar o elo anterior\n",
    "        elo_by_team[home_team].append({'current_elo':home_new_elo, 'datetime':row.datetime})\n",
    "        elo_by_team[away_team].append({'current_elo':away_new_elo, 'datetime':row.datetime})"
   ]
  },
  {
   "cell_type": "code",
   "execution_count": 109,
   "metadata": {
    "collapsed": true
   },
   "outputs": [],
   "source": [
    "# Salva como dataframe\n",
    "elo_df = pd.DataFrame(elo_df)"
   ]
  },
  {
   "cell_type": "code",
   "execution_count": 110,
   "metadata": {
    "collapsed": true
   },
   "outputs": [],
   "source": [
    "# Coloca hífen no nome dos países\n",
    "elo_df['team'] = elo_df.team.str.replace(\" \",\"-\")\n",
    "elo_df['opponent'] = elo_df.opponent.str.replace(\" \",\"-\")"
   ]
  },
  {
   "cell_type": "code",
   "execution_count": 111,
   "metadata": {
    "collapsed": true
   },
   "outputs": [],
   "source": [
    "# Reordena com base na data da partida\n",
    "elo_df = elo_df.sort_values(by='datetime')"
   ]
  },
  {
   "cell_type": "markdown",
   "metadata": {},
   "source": [
    "# Descontinua as linhas de países extintos\n",
    "- No estado atual da base de dados, os times de países extintos (URSS, Iugoslávia, Alemanha Oriental, etc.) continuam sendo atualizados todos os anos, devido à redução anual prevista no código. Vamos removê-los manualmente."
   ]
  },
  {
   "cell_type": "code",
   "execution_count": 112,
   "metadata": {
    "collapsed": true
   },
   "outputs": [],
   "source": [
    "# Se o país for tal, remova todos os jogos falsos após o último jogo verdadeiro\n",
    "extinct_teams = [\n",
    "                 'Czechoslovakia',\n",
    "                 'German-DR',\n",
    "                 'Ireland',\n",
    "                 'Mandatory-Palestine',\n",
    "                 'Netherlands-Antilles',\n",
    "                 'Saarland',\n",
    "                 'Serbia-and-Montenegro',\n",
    "                 'Soviet-Union',\n",
    "                 'United-Arab-Republic',\n",
    "                 'Vietnam-Republic',\n",
    "                 'Yemen-AR',\n",
    "                 'Yemen-DPR',\n",
    "                 'Yugoslavia',\n",
    "                 #North-Vietnam não está aqui porque foi removido anteriormente\n",
    "                ]\n",
    "\n",
    "\n",
    "def clean_extinct_teams(extinct_teams, elo_df):\n",
    "    # Para cada time extinto...\n",
    "    for extinct_team in extinct_teams:\n",
    "        # ...selecione todos os jogos do time\n",
    "        temp = elo_df[elo_df.team == extinct_team]\n",
    "        temp = temp.sort_values(by='datetime', ascending=False)\n",
    "\n",
    "        # Enquanto as partidas forem falsas, vá deletando as linhas.\n",
    "        # Quando a partida for verdadeira, pare de deletar\n",
    "        for index, row in temp.iterrows():\n",
    "            #print(temp.loc[index])\n",
    "            elo_df.drop(index, inplace=True)\n",
    "            if row.fake_flag == \"no\":\n",
    "                break\n",
    "\n",
    "    return elo_df"
   ]
  },
  {
   "cell_type": "code",
   "execution_count": 113,
   "metadata": {
    "collapsed": true,
    "scrolled": false
   },
   "outputs": [],
   "source": [
    "elo_df = clean_extinct_teams(extinct_teams, elo_df)"
   ]
  },
  {
   "cell_type": "markdown",
   "metadata": {},
   "source": [
    "# Converte o nome dos países usando um dicionário de códigos FIFA"
   ]
  },
  {
   "cell_type": "code",
   "execution_count": 114,
   "metadata": {
    "collapsed": true
   },
   "outputs": [],
   "source": [
    "codes = {\n",
    "\"Afghanistan\":\"AFG\",\n",
    "\"Albania\":\"ALB\",\n",
    "\"Algeria\":\"ALG\",\n",
    "\"American-Samoa\":\"ASA\",\n",
    "\"Andorra\":\"AND\",\n",
    "\"Angola\":\"ANG\",\n",
    "\"Anguilla\":\"AIA\",\n",
    "\"Antigua-and-Barbuda\":\"ATG\",\n",
    "\"Argentina\":\"ARG\",\n",
    "\"Armenia\":\"ARM\",\n",
    "\"Aruba\":\"ARU\",\n",
    "\"Australia\":\"AUS\",\n",
    "\"Austria\":\"AUT\",\n",
    "\"Azerbaijan\":\"AZE\",\n",
    "\"Bahamas\":\"BAH\",\n",
    "\"Bahrain\":\"BHR\",\n",
    "\"Bangladesh\":\"BAN\",\n",
    "\"Barbados\":\"BRB\",\n",
    "\"Belarus\":\"BLR\",\n",
    "\"Belgium\":\"BEL\",\n",
    "\"Belize\":\"BLZ\",\n",
    "\"Benin\":\"BEN\",\n",
    "\"Bermuda\":\"BER\",\n",
    "\"Bhutan\":\"BHU\",\n",
    "\"Bolivia\":\"BOL\",\n",
    "\"Bosnia-Herzegovina\":\"BIH\",\n",
    "\"Botswana\":\"BOT\",\n",
    "\"Brazil\":\"BRA\",\n",
    "\"British-Virgin-Islands\":\"VGB\",\n",
    "\"Brunei\":\"BRU\",\n",
    "\"Bulgaria\":\"BUL\",\n",
    "\"Burkina-Faso\":\"BFA\",\n",
    "\"Burundi\":\"BDI\",\n",
    "\"Cambodia\":\"CAM\",\n",
    "\"Cameroon\":\"CMR\",\n",
    "\"Canada\":\"CAN\",\n",
    "\"Cape-Verde-Islands\":\"CPV\",\n",
    "\"Cayman-Islands\":\"CAY\",\n",
    "\"Central-African-Republic\":\"CTA\",\n",
    "\"Chad\":\"CHA\",\n",
    "\"Chile\":\"CHI\",\n",
    "\"China\":\"CHN\",\n",
    "\"Chinese-Taipei\":\"TPE\",\n",
    "\"Colombia\":\"COL\",\n",
    "\"Comoros\":\"COM\",\n",
    "\"Congo\":\"CGO\",\n",
    "\"Cook-Islands\":\"COK\",\n",
    "\"Costa-Rica\":\"CRC\",\n",
    "\"Croatia\":\"CRO\",\n",
    "\"Cuba\":\"CUB\",\n",
    "\"Curaçao\":\"CUW\",\n",
    "\"Cyprus\":\"CYP\",\n",
    "\"Czech-Republic\":\"CZE\",\n",
    "\"Denmark\":\"DEN\",\n",
    "\"Djibouti\":\"DJI\",\n",
    "\"Dominica\":\"DMA\",\n",
    "\"Dominican-Republic\":\"DOM\",\n",
    "\"Congo-DR\":\"COD\",\n",
    "\"Ecuador\":\"ECU\",\n",
    "\"Egypt\":\"EGY\",\n",
    "\"El-Salvador\":\"SLV\",\n",
    "\"England\":\"ENG\",\n",
    "\"Equatorial-Guinea\":\"EQG\",\n",
    "\"Eritrea\":\"ERI\",\n",
    "\"Estonia\":\"EST\",\n",
    "\"Ethiopia\":\"ETH\",\n",
    "\"Faroe-Islands\":\"FRO\",\n",
    "\"Fiji\":\"FIJ\",\n",
    "\"Finland\":\"FIN\",\n",
    "\"France\":\"FRA\",\n",
    "\"Gabon\":\"GAB\",\n",
    "\"Gambia\":\"GAM\",\n",
    "\"Georgia\":\"GEO\",\n",
    "\"Germany\":\"GER\",\n",
    "\"German-DR\":\"DDR\",\n",
    "\"Ghana\":\"GHA\",\n",
    "\"Gibraltar\":\"GIB\",\n",
    "\"Greece\":\"GRE\",\n",
    "\"Grenada\":\"GRN\",\n",
    "\"Guam\":\"GUM\",\n",
    "\"Guatemala\":\"GUA\",\n",
    "\"Guinea\":\"GUI\",\n",
    "\"Guinea-Bissau\":\"GNB\",\n",
    "\"Guyana\":\"GUY\",\n",
    "\"Haiti\":\"HAI\",\n",
    "\"Honduras\":\"HON\",\n",
    "\"Hong-Kong\":\"HKG\",\n",
    "\"Hungary\":\"HUN\",\n",
    "\"Iceland\":\"ISL\",\n",
    "\"India\":\"IND\",\n",
    "\"Indonesia\":\"IDN\",\n",
    "\"Iran\":\"IRN\",\n",
    "\"Iraq\":\"IRQ\",\n",
    "\"Israel\":\"ISR\",\n",
    "\"Italy\":\"ITA\",\n",
    "\"Ivory-Coast\":\"CIV\",\n",
    "\"Jamaica\":\"JAM\",\n",
    "\"Japan\":\"JPN\",\n",
    "\"Jordan\":\"JOR\",\n",
    "\"Kazakhstan\":\"KAZ\",\n",
    "\"Kenya\":\"KEN\",\n",
    "\"Kosovo\":\"KVX\",\n",
    "\"Kuwait\":\"KUW\",\n",
    "\"Kyrgyzstan\":\"KGZ\",\n",
    "\"Laos\":\"LAO\",\n",
    "\"Latvia\":\"LVA\",\n",
    "\"Lebanon\":\"LIB\",\n",
    "\"Korea-Republic\":\"KOR\",\n",
    "\"Korea-DPR\":\"PRK\",\n",
    "\"Laos\":\"LAO\",\n",
    "\"Latvia\":\"LVA\",\n",
    "\"Lebanon\":\"LIB\",\n",
    "\"Lesotho\":\"LES\",\n",
    "\"Liberia\":\"LBR\",\n",
    "\"Libya\":\"LBY\",\n",
    "\"Liechtenstein\":\"LIE\",\n",
    "\"Lithuania\":\"LTU\",\n",
    "\"Luxembourg\":\"LUX\",\n",
    "\"Macau\":\"MAC\",\n",
    "\"Macedonia\":\"MKD\",\n",
    "\"Madagascar\":\"MAD\",\n",
    "\"Malawi\":\"MWI\",\n",
    "\"Malaysia\":\"MAS\",\n",
    "\"Maldives\":\"MDV\",\n",
    "\"Mali\":\"MLI\",\n",
    "\"Malta\":\"MLT\",\n",
    "\"Mauritania\":\"MTN\",\n",
    "\"Mauritius\":\"MRI\",\n",
    "\"Mexico\":\"MEX\",\n",
    "\"Moldova\":\"MDA\",\n",
    "\"Mongolia\":\"MNG\",\n",
    "\"Montenegro\":\"MNE\",\n",
    "\"Montserrat\":\"MSR\",\n",
    "\"Morocco\":\"MAR\",\n",
    "\"Mozambique\":\"MOZ\",\n",
    "\"Myanmar\":\"MYA\",\n",
    "\"Namibia\":\"NAM\",\n",
    "\"Nepal\":\"NEP\",\n",
    "\"Netherlands\":\"NED\",\n",
    "\"New-Caledonia\":\"NCL\",\n",
    "\"New-Zealand\":\"NZL\",\n",
    "\"Nicaragua\":\"NCA\",\n",
    "\"Niger\":\"NIG\",\n",
    "\"Nigeria\":\"NGA\",\n",
    "\"Northern-Ireland\":\"NIR\",\n",
    "\"Norway\":\"NOR\",\n",
    "\"Oman\":\"OMA\",\n",
    "\"Pakistan\":\"PAK\",\n",
    "\"Palestine\":\"PLE\",\n",
    "\"Panama\":\"PAN\",\n",
    "\"Papua-New-Guinea\":\"PNG\",\n",
    "\"Paraguay\":\"PAR\",\n",
    "\"Peru\":\"PER\",\n",
    "\"Philippines\":\"PHI\",\n",
    "\"Poland\":\"POL\",\n",
    "\"Portugal\":\"POR\",\n",
    "\"Puerto-Rico\":\"PUR\",\n",
    "\"Qatar\":\"QAT\",\n",
    "\"Republic-of-Ireland\":\"IRL\",\n",
    "\"Romania\":\"ROU\",\n",
    "\"Russia\":\"RUS\",\n",
    "\"Rwanda\":\"RWA\",\n",
    "\"St-Kitts-and-Nevis\":\"SKN\",\n",
    "\"St-Lucia\":\"LCA\",\n",
    "\"St-Vincent-and-the-Grenadines\":\"VIN\",\n",
    "\"Samoa\":\"SAM\",\n",
    "\"San-Marino\":\"SMR\",\n",
    "\"São-Tomé-and-Príncipe\":\"STP\",\n",
    "\"Saudi-Arabia\":\"KSA\",\n",
    "\"Scotland\":\"SCO\",\n",
    "\"Senegal\":\"SEN\",\n",
    "\"Serbia\":\"SRB\",\n",
    "\"Seychelles\":\"SEY\",\n",
    "\"Sierra-Leone\":\"SLE\",\n",
    "\"Singapore\":\"SIN\",\n",
    "\"Slovakia\":\"SVK\",\n",
    "\"Slovenia\":\"SVN\",\n",
    "\"Solomon-Islands\":\"SOL\",\n",
    "\"Somalia\":\"SOM\",\n",
    "\"South-Africa\":\"RSA\",\n",
    "\"Spain\":\"ESP\",\n",
    "\"Sri-Lanka\":\"SRI\",\n",
    "\"Sudan\":\"SDN\",\n",
    "\"South-Sudan\":\"SSD\",\n",
    "\"Suriname\":\"SUR\",\n",
    "\"Swaziland\":\"SWZ\",\n",
    "\"Sweden\":\"SWE\",\n",
    "\"Switzerland\":\"SUI\",\n",
    "\"Syria\":\"SYR\",\n",
    "\"Tahiti\":\"TAH\",\n",
    "\"Tajikistan\":\"TJK\",\n",
    "\"Tanzania\":\"TAN\",\n",
    "\"Thailand\":\"THA\",\n",
    "\"East-Timor\":\"TLS\",\n",
    "\"Togo\":\"TOG\",\n",
    "\"Tonga\":\"TGA\",\n",
    "\"Trinidad-and-Tobago\":\"TRI\",\n",
    "\"Tunisia\":\"TUN\",\n",
    "\"Turkey\":\"TUR\",\n",
    "\"Turkmenistan\":\"TKM\",\n",
    "\"Turks-and-Caicos-Islands\":\"TCA\",\n",
    "\"Uganda\":\"UGA\",\n",
    "\"Ukraine\":\"UKR\",\n",
    "\"United-Arab-Emirates\":\"UAE\",\n",
    "\"United-States\":\"USA\",\n",
    "\"Uruguay\":\"URU\",\n",
    "\"Virgin-Islands\":\"VIR\",\n",
    "\"Uzbekistan\":\"UZB\",\n",
    "\"Vanuatu\":\"VAN\",\n",
    "\"Venezuela\":\"VEN\",\n",
    "\"Vietnam\":\"VIE\",\n",
    "\"Vietnam-Republic\":\"VSO\",\n",
    "\"Wales\":\"WAL\",\n",
    "\"Yemen\":\"YEM\",\n",
    "\"Zambia\":\"ZAM\",\n",
    "\"Zimbabwe\":\"ZIM\",\n",
    "\"Bonaire\":\"BOE\",\n",
    "\"French-Guiana\":\"GUF\",\n",
    "\"Great-Britain\":\"GBR\",\n",
    "\"Guadeloupe\":\"GLP\",\n",
    "\"Martinique\":\"MTQ\",\n",
    "\"Réunion\":\"REU\",\n",
    "\"St-Martin\":\"SMN\",\n",
    "\"Sint-Maarten\":\"SMA\",\n",
    "\"Tuvalu\":\"TUV\",\n",
    "\"Zanzibar\":\"ZAN\",\n",
    "\"Micronesia-FS\":\"FSM\",\n",
    "\"Kiribati\":\"KIR\",\n",
    "\"Niue\":\"NIU\",\n",
    "\"Northern-Mariana-Islands\":\"NMI\",\n",
    "\"Palau\":\"PLW\",\n",
    "\"Aden\":\"ADE\",\n",
    "\"British-Guiana\":\"BGU\",\n",
    "\"British-Honduras\":\"BHO\",\n",
    "\"British-India\":\"BIN\",\n",
    "\"Bohemia\":\"BOH\",\n",
    "\"Burma\":\"BUR\",\n",
    "\"Central-African-Republic\":\"CAF\",\n",
    "\"Ceylon\":\"CEY\",\n",
    "\"Commonwealth-of-Independent-States\":\"CIS\",\n",
    "\"Congo-Kinshasa\":\"CKN\",\n",
    "\"Congo-Brazzaville\":\"COB\",\n",
    "\"Czechoslovakia\":\"TCH\",\n",
    "\"Dahomey\":\"DAH\",\n",
    "\"Dutch-East-Indies\":\"DEI\",\n",
    "\"East-Germany\":\"DDR\",\n",
    "\"Gold-Coast\":\"GOC\",\n",
    "\"Ireland\":\"EIR\",\n",
    "\"Malaya\":\"MWI\",\n",
    "\"Netherlands-Antilles\":\"ANT\",\n",
    "\"Netherlands\":\"HOL\",\n",
    "\"New-Hebrides\":\"HEB\",\n",
    "\"North-Borneo\":\"NBO\",\n",
    "\"North-Vietnam\":\"VNO\",\n",
    "\"Yemen-AR\":\"NYE\",\n",
    "\"Northern-Rhodesia\":\"NRH\",\n",
    "\"Mandatory-Palestine\":\"PAL\",\n",
    "\"Romania\":\"ROM\",\n",
    "\"Rhodesia\":\"RHO\",\n",
    "\"Saar\":\"SAA\",\n",
    "\"Serbia-and-Montenegro\":\"SCG\",\n",
    "\"Siam\":\"SIA\",\n",
    "\"Southern-Rhodesia\":\"SRH\",\n",
    "\"South-Vietnam\":\"VSO\",\n",
    "\"Yemen-DPR\":\"SYE\",\n",
    "\"Soviet-Union\":\"URS\",\n",
    "\"Sudan\":\"SUD\",\n",
    "\"Suriname\":\"NGY\",\n",
    "\"Tanganyika\":\"TAA\",\n",
    "\"Taiwan\":\"TAI\",\n",
    "\"United-Arab-Republic\":\"UAR\",\n",
    "\"Upper-Volta\":\"UPV\",\n",
    "\"West-Germany\":\"FRG\",\n",
    "\"Western-Samoa\":\"WSM\",\n",
    "\"Yugoslavia\":\"YUG\",\n",
    "\"Zaire\":\"ZAI\", \n",
    "\"Saarland\":\"SAA\",    \n",
    "}"
   ]
  },
  {
   "cell_type": "code",
   "execution_count": 115,
   "metadata": {},
   "outputs": [
    {
     "name": "stdout",
     "output_type": "stream",
     "text": [
      "CPU times: user 7min 13s, sys: 668 ms, total: 7min 13s\n",
      "Wall time: 7min 15s\n"
     ]
    }
   ],
   "source": [
    "%%time\n",
    "def get_country_codes(row, codes):\n",
    "    for k,v in codes.items():        \n",
    "        if row.team == k:\n",
    "            team = v\n",
    "            break\n",
    "            \n",
    "        else:\n",
    "            team = row.team\n",
    "            \n",
    "    for k,v in codes.items():        \n",
    "        if row.opponent == k:\n",
    "            opponent = v\n",
    "            break\n",
    "            \n",
    "        else:\n",
    "            opponent = row.opponent\n",
    "            \n",
    "            \n",
    "    return pd.Series({\"team\":team, \"opponent\":opponent})\n",
    "    \n",
    "function_return = elo_df.apply(get_country_codes, args=(codes,), axis=1)\n",
    "elo_df[['team', 'opponent']] = function_return[['team', 'opponent']]"
   ]
  },
  {
   "cell_type": "code",
   "execution_count": 116,
   "metadata": {},
   "outputs": [
    {
     "data": {
      "text/plain": [
       "0       1872-11-30\n",
       "1       1872-11-30\n",
       "2       1872-12-31\n",
       "4       1872-12-31\n",
       "3       1873-01-01\n",
       "5       1873-01-01\n",
       "6       1873-03-08\n",
       "7       1873-03-08\n",
       "8       1873-12-31\n",
       "10      1873-12-31\n",
       "9       1874-01-01\n",
       "11      1874-01-01\n",
       "13      1874-03-07\n",
       "12      1874-03-07\n",
       "14      1874-12-31\n",
       "16      1874-12-31\n",
       "15      1875-01-01\n",
       "17      1875-01-01\n",
       "18      1875-03-06\n",
       "19      1875-03-06\n",
       "20      1875-12-31\n",
       "22      1875-12-31\n",
       "21      1876-01-01\n",
       "23      1876-01-01\n",
       "25      1876-03-04\n",
       "24      1876-03-04\n",
       "26      1876-03-25\n",
       "27      1876-03-25\n",
       "28      1876-12-31\n",
       "30      1876-12-31\n",
       "32      1876-12-31\n",
       "29      1877-01-01\n",
       "31      1877-01-01\n",
       "33      1877-01-01\n",
       "34      1877-03-03\n",
       "35      1877-03-03\n",
       "37      1877-03-05\n",
       "36      1877-03-05\n",
       "38      1877-12-31\n",
       "40      1877-12-31\n",
       "42      1877-12-31\n",
       "39      1878-01-01\n",
       "41      1878-01-01\n",
       "43      1878-01-01\n",
       "44      1878-03-02\n",
       "45      1878-03-02\n",
       "46      1878-03-23\n",
       "47      1878-03-23\n",
       "52      1878-12-31\n",
       "50      1878-12-31\n",
       "48      1878-12-31\n",
       "51      1879-01-01\n",
       "49      1879-01-01\n",
       "53      1879-01-01\n",
       "54      1879-01-18\n",
       "55      1879-01-18\n",
       "56      1879-04-05\n",
       "57      1879-04-05\n",
       "58      1879-04-07\n",
       "59      1879-04-07\n",
       "60      1879-12-31\n",
       "62      1879-12-31\n",
       "64      1879-12-31\n",
       "65      1880-01-01\n",
       "63      1880-01-01\n",
       "61      1880-01-01\n",
       "66      1880-03-13\n",
       "67      1880-03-13\n",
       "68      1880-03-15\n",
       "69      1880-03-15\n",
       "70      1880-03-27\n",
       "71      1880-03-27\n",
       "72      1880-12-31\n",
       "74      1880-12-31\n",
       "76      1880-12-31\n",
       "77      1881-01-01\n",
       "73      1881-01-01\n",
       "75      1881-01-01\n",
       "78      1881-02-26\n",
       "79      1881-02-26\n",
       "80      1881-03-12\n",
       "81      1881-03-12\n",
       "82      1881-03-14\n",
       "83      1881-03-14\n",
       "86      1881-12-31\n",
       "84      1881-12-31\n",
       "88      1881-12-31\n",
       "89      1882-01-01\n",
       "85      1882-01-01\n",
       "87      1882-01-01\n",
       "90      1882-02-18\n",
       "91      1882-02-18\n",
       "92      1882-02-25\n",
       "93      1882-02-25\n",
       "95      1882-03-11\n",
       "94      1882-03-11\n",
       "97      1882-03-13\n",
       "96      1882-03-13\n",
       "98      1882-03-25\n",
       "99      1882-03-25\n",
       "100     1882-12-31\n",
       "102     1882-12-31\n",
       "104     1882-12-31\n",
       "106     1882-12-31\n",
       "101     1883-01-01\n",
       "103     1883-01-01\n",
       "105     1883-01-01\n",
       "107     1883-01-01\n",
       "109     1883-02-03\n",
       "108     1883-02-03\n",
       "110     1883-02-24\n",
       "111     1883-02-24\n",
       "112     1883-03-10\n",
       "113     1883-03-10\n",
       "114     1883-03-12\n",
       "115     1883-03-12\n",
       "116     1883-03-17\n",
       "117     1883-03-17\n",
       "124     1883-12-31\n",
       "122     1883-12-31\n",
       "120     1883-12-31\n",
       "118     1883-12-31\n",
       "121     1884-01-01\n",
       "119     1884-01-01\n",
       "123     1884-01-01\n",
       "125     1884-01-01\n",
       "126     1884-01-26\n",
       "127     1884-01-26\n",
       "128     1884-02-09\n",
       "129     1884-02-09\n",
       "131     1884-02-23\n",
       "130     1884-02-23\n",
       "132     1884-03-15\n",
       "133     1884-03-15\n",
       "134     1884-03-17\n",
       "135     1884-03-17\n",
       "136     1884-03-29\n",
       "137     1884-03-29\n",
       "138     1884-12-31\n",
       "144     1884-12-31\n",
       "140     1884-12-31\n",
       "142     1884-12-31\n",
       "143     1885-01-01\n",
       "145     1885-01-01\n",
       "139     1885-01-01\n",
       "141     1885-01-01\n",
       "146     1885-02-28\n",
       "147     1885-02-28\n",
       "148     1885-03-14\n",
       "149     1885-03-14\n",
       "150     1885-03-14\n",
       "151     1885-03-14\n",
       "153     1885-03-21\n",
       "152     1885-03-21\n",
       "154     1885-03-23\n",
       "155     1885-03-23\n",
       "156     1885-04-11\n",
       "157     1885-04-11\n",
       "158     1885-11-28\n",
       "159     1885-11-28\n",
       "166     1885-12-31\n",
       "170     1885-12-31\n",
       "164     1885-12-31\n",
       "168     1885-12-31\n",
       "162     1885-12-31\n",
       "160     1885-12-31\n",
       "165     1886-01-01\n",
       "161     1886-01-01\n",
       "167     1886-01-01\n",
       "169     1886-01-01\n",
       "171     1886-01-01\n",
       "163     1886-01-01\n",
       "172     1886-02-27\n",
       "173     1886-02-27\n",
       "174     1886-03-13\n",
       "175     1886-03-13\n",
       "176     1886-03-20\n",
       "177     1886-03-20\n",
       "179     1886-03-27\n",
       "178     1886-03-27\n",
       "180     1886-03-29\n",
       "181     1886-03-29\n",
       "182     1886-04-10\n",
       "183     1886-04-10\n",
       "184     1886-11-25\n",
       "185     1886-11-25\n",
       "186     1886-12-31\n",
       "188     1886-12-31\n",
       "196     1886-12-31\n",
       "190     1886-12-31\n",
       "192     1886-12-31\n",
       "194     1886-12-31\n",
       "197     1887-01-01\n",
       "195     1887-01-01\n",
       "191     1887-01-01\n",
       "193     1887-01-01\n",
       "189     1887-01-01\n",
       "187     1887-01-01\n",
       "198     1887-02-05\n",
       "199     1887-02-05\n",
       "200     1887-02-19\n",
       "201     1887-02-19\n",
       "202     1887-02-26\n",
       "203     1887-02-26\n",
       "205     1887-03-12\n",
       "204     1887-03-12\n",
       "206     1887-03-19\n",
       "207     1887-03-19\n",
       "208     1887-03-21\n",
       "209     1887-03-21\n",
       "218     1887-12-31\n",
       "210     1887-12-31\n",
       "212     1887-12-31\n",
       "220     1887-12-31\n",
       "214     1887-12-31\n",
       "216     1887-12-31\n",
       "221     1888-01-01\n",
       "219     1888-01-01\n",
       "215     1888-01-01\n",
       "213     1888-01-01\n",
       "211     1888-01-01\n",
       "217     1888-01-01\n",
       "222     1888-02-04\n",
       "223     1888-02-04\n",
       "224     1888-03-03\n",
       "225     1888-03-03\n",
       "226     1888-03-10\n",
       "227     1888-03-10\n",
       "228     1888-03-17\n",
       "229     1888-03-17\n",
       "231     1888-03-24\n",
       "230     1888-03-24\n",
       "232     1888-04-07\n",
       "233     1888-04-07\n",
       "234     1888-09-19\n",
       "235     1888-09-19\n",
       "236     1888-12-31\n",
       "238     1888-12-31\n",
       "246     1888-12-31\n",
       "244     1888-12-31\n",
       "242     1888-12-31\n",
       "240     1888-12-31\n",
       "247     1889-01-01\n",
       "245     1889-01-01\n",
       "243     1889-01-01\n",
       "239     1889-01-01\n",
       "237     1889-01-01\n",
       "241     1889-01-01\n",
       "248     1889-02-23\n",
       "249     1889-02-23\n",
       "250     1889-03-02\n",
       "251     1889-03-02\n",
       "253     1889-03-09\n",
       "252     1889-03-09\n",
       "254     1889-04-13\n",
       "255     1889-04-13\n",
       "257     1889-04-15\n",
       "256     1889-04-15\n",
       "258     1889-04-27\n",
       "259     1889-04-27\n",
       "270     1889-12-31\n",
       "262     1889-12-31\n",
       "264     1889-12-31\n",
       "260     1889-12-31\n",
       "266     1889-12-31\n",
       "268     1889-12-31\n",
       "269     1890-01-01\n",
       "271     1890-01-01\n",
       "265     1890-01-01\n",
       "263     1890-01-01\n",
       "261     1890-01-01\n",
       "267     1890-01-01\n",
       "272     1890-02-08\n",
       "273     1890-02-08\n",
       "274     1890-03-15\n",
       "275     1890-03-15\n",
       "276     1890-03-15\n",
       "277     1890-03-15\n",
       "278     1890-03-22\n",
       "279     1890-03-22\n",
       "280     1890-03-29\n",
       "281     1890-03-29\n",
       "282     1890-04-05\n",
       "283     1890-04-05\n",
       "288     1890-12-31\n",
       "294     1890-12-31\n",
       "286     1890-12-31\n",
       "284     1890-12-31\n",
       "290     1890-12-31\n",
       "292     1890-12-31\n",
       "293     1891-01-01\n",
       "295     1891-01-01\n",
       "289     1891-01-01\n",
       "287     1891-01-01\n",
       "291     1891-01-01\n",
       "285     1891-01-01\n",
       "296     1891-02-07\n",
       "297     1891-02-07\n",
       "298     1891-03-07\n",
       "299     1891-03-07\n",
       "300     1891-03-07\n",
       "301     1891-03-07\n",
       "303     1891-03-21\n",
       "302     1891-03-21\n",
       "304     1891-03-28\n",
       "305     1891-03-28\n",
       "306     1891-12-31\n",
       "308     1891-12-31\n",
       "316     1891-12-31\n",
       "310     1891-12-31\n",
       "314     1891-12-31\n",
       "312     1891-12-31\n",
       "317     1892-01-01\n",
       "315     1892-01-01\n",
       "311     1892-01-01\n",
       "313     1892-01-01\n",
       "309     1892-01-01\n",
       "307     1892-01-01\n",
       "318     1892-02-27\n",
       "319     1892-02-27\n",
       "320     1892-03-05\n",
       "321     1892-03-05\n",
       "322     1892-03-05\n",
       "323     1892-03-05\n",
       "325     1892-03-19\n",
       "324     1892-03-19\n",
       "326     1892-03-26\n",
       "327     1892-03-26\n",
       "328     1892-04-02\n",
       "329     1892-04-02\n",
       "336     1892-12-31\n",
       "330     1892-12-31\n",
       "340     1892-12-31\n",
       "332     1892-12-31\n",
       "334     1892-12-31\n",
       "338     1892-12-31\n",
       "339     1893-01-01\n",
       "341     1893-01-01\n",
       "335     1893-01-01\n",
       "333     1893-01-01\n",
       "331     1893-01-01\n",
       "337     1893-01-01\n",
       "342     1893-02-25\n",
       "343     1893-02-25\n",
       "344     1893-03-13\n",
       "345     1893-03-13\n",
       "346     1893-03-18\n",
       "347     1893-03-18\n",
       "348     1893-03-25\n",
       "349     1893-03-25\n",
       "350     1893-04-01\n",
       "351     1893-04-01\n",
       "362     1893-12-31\n",
       "360     1893-12-31\n",
       "356     1893-12-31\n",
       "358     1893-12-31\n",
       "354     1893-12-31\n",
       "352     1893-12-31\n",
       "357     1894-01-01\n",
       "353     1894-01-01\n",
       "359     1894-01-01\n",
       "361     1894-01-01\n",
       "363     1894-01-01\n",
       "355     1894-01-01\n",
       "364     1894-02-24\n",
       "365     1894-02-24\n",
       "367     1894-03-03\n",
       "366     1894-03-03\n",
       "368     1894-03-12\n",
       "369     1894-03-12\n",
       "370     1894-03-24\n",
       "371     1894-03-24\n",
       "372     1894-03-31\n",
       "373     1894-03-31\n",
       "374     1894-04-07\n",
       "375     1894-04-07\n",
       "380     1894-12-31\n",
       "386     1894-12-31\n",
       "382     1894-12-31\n",
       "376     1894-12-31\n",
       "378     1894-12-31\n",
       "384     1894-12-31\n",
       "387     1895-01-01\n",
       "385     1895-01-01\n",
       "379     1895-01-01\n",
       "381     1895-01-01\n",
       "383     1895-01-01\n",
       "377     1895-01-01\n",
       "388     1895-03-09\n",
       "389     1895-03-09\n",
       "390     1895-03-16\n",
       "391     1895-03-16\n",
       "393     1895-03-18\n",
       "392     1895-03-18\n",
       "394     1895-03-23\n",
       "395     1895-03-23\n",
       "396     1895-03-30\n",
       "397     1895-03-30\n",
       "398     1895-04-06\n",
       "399     1895-04-06\n",
       "406     1895-12-31\n",
       "410     1895-12-31\n",
       "404     1895-12-31\n",
       "408     1895-12-31\n",
       "402     1895-12-31\n",
       "400     1895-12-31\n",
       "405     1896-01-01\n",
       "401     1896-01-01\n",
       "407     1896-01-01\n",
       "403     1896-01-01\n",
       "409     1896-01-01\n",
       "411     1896-01-01\n",
       "412     1896-02-29\n",
       "413     1896-02-29\n",
       "414     1896-03-07\n",
       "415     1896-03-07\n",
       "417     1896-03-16\n",
       "416     1896-03-16\n",
       "418     1896-03-21\n",
       "419     1896-03-21\n",
       "420     1896-03-28\n",
       "421     1896-03-28\n",
       "422     1896-04-04\n",
       "423     1896-04-04\n",
       "430     1896-12-31\n",
       "424     1896-12-31\n",
       "426     1896-12-31\n",
       "434     1896-12-31\n",
       "428     1896-12-31\n",
       "432     1896-12-31\n",
       "435     1897-01-01\n",
       "433     1897-01-01\n",
       "431     1897-01-01\n",
       "429     1897-01-01\n",
       "427     1897-01-01\n",
       "425     1897-01-01\n",
       "436     1897-02-20\n",
       "437     1897-02-20\n",
       "438     1897-03-06\n",
       "439     1897-03-06\n",
       "440     1897-03-20\n",
       "441     1897-03-20\n",
       "442     1897-03-27\n",
       "443     1897-03-27\n",
       "445     1897-03-29\n",
       "444     1897-03-29\n",
       "446     1897-04-03\n",
       "447     1897-04-03\n",
       "448     1897-12-31\n",
       "450     1897-12-31\n",
       "458     1897-12-31\n",
       "452     1897-12-31\n",
       "454     1897-12-31\n",
       "456     1897-12-31\n",
       "459     1898-01-01\n",
       "457     1898-01-01\n",
       "455     1898-01-01\n",
       "453     1898-01-01\n",
       "451     1898-01-01\n",
       "449     1898-01-01\n",
       "460     1898-02-19\n",
       "461     1898-02-19\n",
       "462     1898-03-05\n",
       "463     1898-03-05\n",
       "464     1898-03-19\n",
       "465     1898-03-19\n",
       "467     1898-03-26\n",
       "466     1898-03-26\n",
       "468     1898-03-28\n",
       "469     1898-03-28\n",
       "470     1898-04-02\n",
       "471     1898-04-02\n",
       "480     1898-12-31\n",
       "472     1898-12-31\n",
       "474     1898-12-31\n",
       "482     1898-12-31\n",
       "476     1898-12-31\n",
       "478     1898-12-31\n",
       "483     1899-01-01\n",
       "481     1899-01-01\n",
       "477     1899-01-01\n",
       "479     1899-01-01\n",
       "475     1899-01-01\n",
       "473     1899-01-01\n",
       "484     1899-02-18\n",
       "485     1899-02-18\n",
       "486     1899-03-04\n",
       "487     1899-03-04\n",
       "488     1899-03-18\n",
       "489     1899-03-18\n",
       "491     1899-03-20\n",
       "490     1899-03-20\n",
       "492     1899-03-25\n",
       "493     1899-03-25\n",
       "494     1899-04-08\n",
       "495     1899-04-08\n",
       "502     1899-12-31\n",
       "496     1899-12-31\n",
       "498     1899-12-31\n",
       "506     1899-12-31\n",
       "           ...    \n",
       "98979   2018-03-24\n",
       "98980   2018-03-24\n",
       "98976   2018-03-24\n",
       "98982   2018-03-24\n",
       "98983   2018-03-24\n",
       "98984   2018-03-24\n",
       "98985   2018-03-24\n",
       "98986   2018-03-24\n",
       "98988   2018-03-24\n",
       "98981   2018-03-24\n",
       "99018   2018-03-25\n",
       "99025   2018-03-25\n",
       "99024   2018-03-25\n",
       "99023   2018-03-25\n",
       "99022   2018-03-25\n",
       "99021   2018-03-25\n",
       "99020   2018-03-25\n",
       "99019   2018-03-25\n",
       "99017   2018-03-25\n",
       "99012   2018-03-25\n",
       "99015   2018-03-25\n",
       "99014   2018-03-25\n",
       "99013   2018-03-25\n",
       "99011   2018-03-25\n",
       "99010   2018-03-25\n",
       "99009   2018-03-25\n",
       "99008   2018-03-25\n",
       "99016   2018-03-25\n",
       "99034   2018-03-26\n",
       "99039   2018-03-26\n",
       "99038   2018-03-26\n",
       "99037   2018-03-26\n",
       "99036   2018-03-26\n",
       "99035   2018-03-26\n",
       "99033   2018-03-26\n",
       "99032   2018-03-26\n",
       "99031   2018-03-26\n",
       "99030   2018-03-26\n",
       "99029   2018-03-26\n",
       "99028   2018-03-26\n",
       "99027   2018-03-26\n",
       "99026   2018-03-26\n",
       "99089   2018-03-27\n",
       "99088   2018-03-27\n",
       "99087   2018-03-27\n",
       "99086   2018-03-27\n",
       "99085   2018-03-27\n",
       "99084   2018-03-27\n",
       "99083   2018-03-27\n",
       "99080   2018-03-27\n",
       "99081   2018-03-27\n",
       "99090   2018-03-27\n",
       "99079   2018-03-27\n",
       "99078   2018-03-27\n",
       "99077   2018-03-27\n",
       "99076   2018-03-27\n",
       "99082   2018-03-27\n",
       "99091   2018-03-27\n",
       "99094   2018-03-27\n",
       "99093   2018-03-27\n",
       "99107   2018-03-27\n",
       "99106   2018-03-27\n",
       "99105   2018-03-27\n",
       "99104   2018-03-27\n",
       "99103   2018-03-27\n",
       "99102   2018-03-27\n",
       "99092   2018-03-27\n",
       "99101   2018-03-27\n",
       "99099   2018-03-27\n",
       "99098   2018-03-27\n",
       "99097   2018-03-27\n",
       "99096   2018-03-27\n",
       "99095   2018-03-27\n",
       "99075   2018-03-27\n",
       "99100   2018-03-27\n",
       "99074   2018-03-27\n",
       "99052   2018-03-27\n",
       "99072   2018-03-27\n",
       "99040   2018-03-27\n",
       "99041   2018-03-27\n",
       "99042   2018-03-27\n",
       "99043   2018-03-27\n",
       "99044   2018-03-27\n",
       "99045   2018-03-27\n",
       "99046   2018-03-27\n",
       "99047   2018-03-27\n",
       "99048   2018-03-27\n",
       "99049   2018-03-27\n",
       "99050   2018-03-27\n",
       "99051   2018-03-27\n",
       "99073   2018-03-27\n",
       "99054   2018-03-27\n",
       "99055   2018-03-27\n",
       "99053   2018-03-27\n",
       "99057   2018-03-27\n",
       "99071   2018-03-27\n",
       "99070   2018-03-27\n",
       "99069   2018-03-27\n",
       "99068   2018-03-27\n",
       "99067   2018-03-27\n",
       "99056   2018-03-27\n",
       "99065   2018-03-27\n",
       "99066   2018-03-27\n",
       "99063   2018-03-27\n",
       "99062   2018-03-27\n",
       "99061   2018-03-27\n",
       "99060   2018-03-27\n",
       "99059   2018-03-27\n",
       "99058   2018-03-27\n",
       "99064   2018-03-27\n",
       "99108   2018-03-28\n",
       "99109   2018-03-28\n",
       "99110   2018-03-28\n",
       "99111   2018-03-28\n",
       "99112   2018-04-01\n",
       "99113   2018-04-01\n",
       "99115   2018-04-17\n",
       "99114   2018-04-17\n",
       "99116   2018-04-18\n",
       "99117   2018-04-18\n",
       "99118   2018-04-26\n",
       "99119   2018-04-26\n",
       "99120   2018-04-29\n",
       "99121   2018-04-29\n",
       "99122   2018-05-08\n",
       "99123   2018-05-08\n",
       "99124   2018-05-09\n",
       "99125   2018-05-09\n",
       "99127   2018-05-11\n",
       "99126   2018-05-11\n",
       "99128   2018-05-15\n",
       "99129   2018-05-15\n",
       "99130   2018-05-19\n",
       "99131   2018-05-19\n",
       "99132   2018-05-20\n",
       "99133   2018-05-20\n",
       "99134   2018-05-25\n",
       "99135   2018-05-25\n",
       "99136   2018-05-26\n",
       "99137   2018-05-26\n",
       "99143   2018-05-27\n",
       "99142   2018-05-27\n",
       "99141   2018-05-27\n",
       "99139   2018-05-27\n",
       "99138   2018-05-27\n",
       "99140   2018-05-27\n",
       "99167   2018-05-28\n",
       "99166   2018-05-28\n",
       "99165   2018-05-28\n",
       "99164   2018-05-28\n",
       "99163   2018-05-28\n",
       "99162   2018-05-28\n",
       "99161   2018-05-28\n",
       "99160   2018-05-28\n",
       "99159   2018-05-28\n",
       "99158   2018-05-28\n",
       "99157   2018-05-28\n",
       "99156   2018-05-28\n",
       "99154   2018-05-28\n",
       "99153   2018-05-28\n",
       "99152   2018-05-28\n",
       "99151   2018-05-28\n",
       "99150   2018-05-28\n",
       "99149   2018-05-28\n",
       "99148   2018-05-28\n",
       "99147   2018-05-28\n",
       "99146   2018-05-28\n",
       "99145   2018-05-28\n",
       "99155   2018-05-28\n",
       "99144   2018-05-28\n",
       "99176   2018-05-29\n",
       "99177   2018-05-29\n",
       "99179   2018-05-29\n",
       "99175   2018-05-29\n",
       "99178   2018-05-29\n",
       "99174   2018-05-29\n",
       "99173   2018-05-29\n",
       "99172   2018-05-29\n",
       "99171   2018-05-29\n",
       "99170   2018-05-29\n",
       "99169   2018-05-29\n",
       "99168   2018-05-29\n",
       "99195   2018-05-30\n",
       "99194   2018-05-30\n",
       "99193   2018-05-30\n",
       "99192   2018-05-30\n",
       "99191   2018-05-30\n",
       "99190   2018-05-30\n",
       "99189   2018-05-30\n",
       "99188   2018-05-30\n",
       "99187   2018-05-30\n",
       "99186   2018-05-30\n",
       "99185   2018-05-30\n",
       "99184   2018-05-30\n",
       "99183   2018-05-30\n",
       "99182   2018-05-30\n",
       "99181   2018-05-30\n",
       "99180   2018-05-30\n",
       "99207   2018-05-31\n",
       "99206   2018-05-31\n",
       "99205   2018-05-31\n",
       "99204   2018-05-31\n",
       "99202   2018-05-31\n",
       "99203   2018-05-31\n",
       "99200   2018-05-31\n",
       "99199   2018-05-31\n",
       "99198   2018-05-31\n",
       "99197   2018-05-31\n",
       "99196   2018-05-31\n",
       "99201   2018-05-31\n",
       "99227   2018-06-01\n",
       "99226   2018-06-01\n",
       "99225   2018-06-01\n",
       "99224   2018-06-01\n",
       "99223   2018-06-01\n",
       "99222   2018-06-01\n",
       "99221   2018-06-01\n",
       "99220   2018-06-01\n",
       "99219   2018-06-01\n",
       "99218   2018-06-01\n",
       "99217   2018-06-01\n",
       "99215   2018-06-01\n",
       "99214   2018-06-01\n",
       "99213   2018-06-01\n",
       "99212   2018-06-01\n",
       "99211   2018-06-01\n",
       "99210   2018-06-01\n",
       "99209   2018-06-01\n",
       "99208   2018-06-01\n",
       "99216   2018-06-01\n",
       "99246   2018-06-02\n",
       "99243   2018-06-02\n",
       "99253   2018-06-02\n",
       "99245   2018-06-02\n",
       "99247   2018-06-02\n",
       "99242   2018-06-02\n",
       "99249   2018-06-02\n",
       "99250   2018-06-02\n",
       "99251   2018-06-02\n",
       "99252   2018-06-02\n",
       "99248   2018-06-02\n",
       "99241   2018-06-02\n",
       "99244   2018-06-02\n",
       "99239   2018-06-02\n",
       "99240   2018-06-02\n",
       "99229   2018-06-02\n",
       "99230   2018-06-02\n",
       "99231   2018-06-02\n",
       "99232   2018-06-02\n",
       "99228   2018-06-02\n",
       "99234   2018-06-02\n",
       "99235   2018-06-02\n",
       "99236   2018-06-02\n",
       "99237   2018-06-02\n",
       "99238   2018-06-02\n",
       "99233   2018-06-02\n",
       "99266   2018-06-03\n",
       "99275   2018-06-03\n",
       "99273   2018-06-03\n",
       "99272   2018-06-03\n",
       "99271   2018-06-03\n",
       "99270   2018-06-03\n",
       "99269   2018-06-03\n",
       "99268   2018-06-03\n",
       "99267   2018-06-03\n",
       "99265   2018-06-03\n",
       "99274   2018-06-03\n",
       "99263   2018-06-03\n",
       "99262   2018-06-03\n",
       "99261   2018-06-03\n",
       "99260   2018-06-03\n",
       "99259   2018-06-03\n",
       "99258   2018-06-03\n",
       "99257   2018-06-03\n",
       "99256   2018-06-03\n",
       "99255   2018-06-03\n",
       "99264   2018-06-03\n",
       "99254   2018-06-03\n",
       "99285   2018-06-04\n",
       "99284   2018-06-04\n",
       "99283   2018-06-04\n",
       "99282   2018-06-04\n",
       "99281   2018-06-04\n",
       "99279   2018-06-04\n",
       "99278   2018-06-04\n",
       "99277   2018-06-04\n",
       "99276   2018-06-04\n",
       "99280   2018-06-04\n",
       "99295   2018-06-05\n",
       "99301   2018-06-05\n",
       "99300   2018-06-05\n",
       "99299   2018-06-05\n",
       "99298   2018-06-05\n",
       "99297   2018-06-05\n",
       "99296   2018-06-05\n",
       "99294   2018-06-05\n",
       "99286   2018-06-05\n",
       "99292   2018-06-05\n",
       "99291   2018-06-05\n",
       "99290   2018-06-05\n",
       "99289   2018-06-05\n",
       "99288   2018-06-05\n",
       "99287   2018-06-05\n",
       "99293   2018-06-05\n",
       "99309   2018-06-06\n",
       "99313   2018-06-06\n",
       "99312   2018-06-06\n",
       "99311   2018-06-06\n",
       "99310   2018-06-06\n",
       "99308   2018-06-06\n",
       "99303   2018-06-06\n",
       "99306   2018-06-06\n",
       "99305   2018-06-06\n",
       "99304   2018-06-06\n",
       "99307   2018-06-06\n",
       "99302   2018-06-06\n",
       "99325   2018-06-07\n",
       "99324   2018-06-07\n",
       "99323   2018-06-07\n",
       "99322   2018-06-07\n",
       "99321   2018-06-07\n",
       "99320   2018-06-07\n",
       "99318   2018-06-07\n",
       "99317   2018-06-07\n",
       "99316   2018-06-07\n",
       "99315   2018-06-07\n",
       "99314   2018-06-07\n",
       "99319   2018-06-07\n",
       "99335   2018-06-08\n",
       "99340   2018-06-08\n",
       "99339   2018-06-08\n",
       "99338   2018-06-08\n",
       "99341   2018-06-08\n",
       "99336   2018-06-08\n",
       "99334   2018-06-08\n",
       "99337   2018-06-08\n",
       "99332   2018-06-08\n",
       "99331   2018-06-08\n",
       "99330   2018-06-08\n",
       "99329   2018-06-08\n",
       "99328   2018-06-08\n",
       "99327   2018-06-08\n",
       "99326   2018-06-08\n",
       "99333   2018-06-08\n",
       "99353   2018-06-09\n",
       "99354   2018-06-09\n",
       "99355   2018-06-09\n",
       "99356   2018-06-09\n",
       "99360   2018-06-09\n",
       "99358   2018-06-09\n",
       "99359   2018-06-09\n",
       "99361   2018-06-09\n",
       "99357   2018-06-09\n",
       "99352   2018-06-09\n",
       "99350   2018-06-09\n",
       "99349   2018-06-09\n",
       "99348   2018-06-09\n",
       "99347   2018-06-09\n",
       "99346   2018-06-09\n",
       "99345   2018-06-09\n",
       "99344   2018-06-09\n",
       "99343   2018-06-09\n",
       "99342   2018-06-09\n",
       "99351   2018-06-09\n",
       "99365   2018-06-10\n",
       "99362   2018-06-10\n",
       "99363   2018-06-10\n",
       "99364   2018-06-10\n",
       "99368   2018-06-11\n",
       "99369   2018-06-11\n",
       "99366   2018-06-11\n",
       "99367   2018-06-11\n",
       "99370   2018-06-14\n",
       "99371   2018-06-14\n",
       "99372   2018-06-15\n",
       "99373   2018-06-15\n",
       "99374   2018-06-15\n",
       "99375   2018-06-15\n",
       "99376   2018-06-15\n",
       "99377   2018-06-15\n",
       "99385   2018-06-16\n",
       "99383   2018-06-16\n",
       "99382   2018-06-16\n",
       "99384   2018-06-16\n",
       "99380   2018-06-16\n",
       "99379   2018-06-16\n",
       "99381   2018-06-16\n",
       "99378   2018-06-16\n",
       "99390   2018-06-17\n",
       "99389   2018-06-17\n",
       "99391   2018-06-17\n",
       "99387   2018-06-17\n",
       "99386   2018-06-17\n",
       "99388   2018-06-17\n",
       "99392   2018-06-18\n",
       "99393   2018-06-18\n",
       "99394   2018-06-18\n",
       "99395   2018-06-18\n",
       "99396   2018-06-18\n",
       "99397   2018-06-18\n",
       "99403   2018-06-19\n",
       "99405   2018-06-19\n",
       "99404   2018-06-19\n",
       "99402   2018-06-19\n",
       "99398   2018-06-19\n",
       "99400   2018-06-19\n",
       "99399   2018-06-19\n",
       "99401   2018-06-19\n",
       "99406   2018-06-20\n",
       "99407   2018-06-20\n",
       "99408   2018-06-20\n",
       "99409   2018-06-20\n",
       "99410   2018-06-21\n",
       "99411   2018-06-21\n",
       "99412   2018-06-21\n",
       "99413   2018-06-21\n",
       "99414   2018-06-21\n",
       "99415   2018-06-21\n",
       "99421   2018-06-22\n",
       "99420   2018-06-22\n",
       "99419   2018-06-22\n",
       "99416   2018-06-22\n",
       "99417   2018-06-22\n",
       "99418   2018-06-22\n",
       "99422   2018-06-23\n",
       "99423   2018-06-23\n",
       "99424   2018-06-23\n",
       "99425   2018-06-23\n",
       "99426   2018-06-23\n",
       "99427   2018-06-23\n",
       "99433   2018-06-24\n",
       "99431   2018-06-24\n",
       "99432   2018-06-24\n",
       "99429   2018-06-24\n",
       "99428   2018-06-24\n",
       "99430   2018-06-24\n",
       "99434   2018-06-25\n",
       "99435   2018-06-25\n",
       "99436   2018-06-25\n",
       "99437   2018-06-25\n",
       "99438   2018-06-25\n",
       "99439   2018-06-25\n",
       "99440   2018-06-25\n",
       "99441   2018-06-25\n",
       "99449   2018-06-26\n",
       "99448   2018-06-26\n",
       "99447   2018-06-26\n",
       "99446   2018-06-26\n",
       "99445   2018-06-26\n",
       "99444   2018-06-26\n",
       "99443   2018-06-26\n",
       "99442   2018-06-26\n",
       "99450   2018-06-27\n",
       "99451   2018-06-27\n",
       "99452   2018-06-27\n",
       "99453   2018-06-27\n",
       "99454   2018-06-27\n",
       "99455   2018-06-27\n",
       "99456   2018-06-27\n",
       "99457   2018-06-27\n",
       "99465   2018-06-28\n",
       "99463   2018-06-28\n",
       "99462   2018-06-28\n",
       "99464   2018-06-28\n",
       "99460   2018-06-28\n",
       "99458   2018-06-28\n",
       "99461   2018-06-28\n",
       "99459   2018-06-28\n",
       "99466   2018-06-30\n",
       "99467   2018-06-30\n",
       "99468   2018-06-30\n",
       "99469   2018-06-30\n",
       "99471   2018-07-01\n",
       "99472   2018-07-01\n",
       "99473   2018-07-01\n",
       "99470   2018-07-01\n",
       "99474   2018-07-02\n",
       "99475   2018-07-02\n",
       "99476   2018-07-02\n",
       "99477   2018-07-02\n",
       "99481   2018-07-03\n",
       "99480   2018-07-03\n",
       "99479   2018-07-03\n",
       "99478   2018-07-03\n",
       "99482   2018-07-06\n",
       "99483   2018-07-06\n",
       "99484   2018-07-06\n",
       "99485   2018-07-06\n",
       "99489   2018-07-07\n",
       "99486   2018-07-07\n",
       "99487   2018-07-07\n",
       "99488   2018-07-07\n",
       "99490   2018-07-10\n",
       "99491   2018-07-10\n",
       "99492   2018-07-11\n",
       "99493   2018-07-11\n",
       "99494   2018-07-14\n",
       "99495   2018-07-14\n",
       "99496   2018-07-15\n",
       "99497   2018-07-15\n",
       "Name: datetime, Length: 98443, dtype: datetime64[ns]"
      ]
     },
     "execution_count": 116,
     "metadata": {},
     "output_type": "execute_result"
    }
   ],
   "source": [
    "elo_df['datetime']"
   ]
  },
  {
   "cell_type": "markdown",
   "metadata": {},
   "source": [
    "# Salva pra csv"
   ]
  },
  {
   "cell_type": "code",
   "execution_count": 117,
   "metadata": {},
   "outputs": [
    {
     "data": {
      "text/plain": [
       "'2018-07-16'"
      ]
     },
     "execution_count": 117,
     "metadata": {},
     "output_type": "execute_result"
    }
   ],
   "source": [
    "string = str(datetime.now())\n",
    "string = string[:10]\n",
    "string"
   ]
  },
  {
   "cell_type": "code",
   "execution_count": 118,
   "metadata": {
    "collapsed": true
   },
   "outputs": [],
   "source": [
    "elo_df.to_csv('../data/elo-selecoes-' + string + '.csv', index=False)"
   ]
  }
 ],
 "metadata": {
  "kernelspec": {
   "display_name": "Python 3",
   "language": "python",
   "name": "python3"
  },
  "language_info": {
   "codemirror_mode": {
    "name": "ipython",
    "version": 3
   },
   "file_extension": ".py",
   "mimetype": "text/x-python",
   "name": "python",
   "nbconvert_exporter": "python",
   "pygments_lexer": "ipython3",
   "version": "3.6.3"
  }
 },
 "nbformat": 4,
 "nbformat_minor": 2
}
